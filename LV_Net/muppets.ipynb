{
 "cells": [
  {
   "cell_type": "code",
   "execution_count": 51,
   "metadata": {
    "collapsed": true,
    "ExecuteTime": {
     "end_time": "2024-02-02T04:58:34.338686900Z",
     "start_time": "2024-02-02T04:58:34.321457400Z"
    }
   },
   "outputs": [],
   "source": [
    "import pypsa as psa\n",
    "import networkx as nx\n",
    "import numpy as np\n",
    "import pandas as pd"
   ]
  },
  {
   "cell_type": "code",
   "execution_count": 52,
   "outputs": [
    {
     "name": "stderr",
     "output_type": "stream",
     "text": [
      "WARNING:pypsa.components:The bus name `My bus 6` given for bus1 of Line `My line 5` does not appear in network.buses\n",
      "WARNING:pypsa.plot:Cartopy needs to be installed to use `geomap=True`.\n"
     ]
    },
    {
     "data": {
      "text/plain": "(<matplotlib.collections.PatchCollection at 0x20d582c7790>,\n <matplotlib.collections.LineCollection at 0x20d583535e0>)"
     },
     "execution_count": 52,
     "metadata": {},
     "output_type": "execute_result"
    },
    {
     "data": {
      "text/plain": "<Figure size 640x480 with 1 Axes>",
      "image/png": "[encoded data removed]"
     },
     "metadata": {},
     "output_type": "display_data"
    }
   ],
   "source": [
    "net = psa.Network()\n",
    "\n",
    "for i in range(5):\n",
    "    net.add(\"Bus\", \"My bus {}\".format(i), x=0, y=i)\n",
    "\n",
    "bus_count = len(net.buses.index.to_list())\n",
    "net.add(\"Bus\", \"My bus {}\".format(bus_count), x=1, y=2)\n",
    "\n",
    "for i in range(len(net.buses.index.to_list())):\n",
    "    line_count = len(net.lines.index.to_list())\n",
    "    net.add(\"Line\", \"My line {}\".format(line_count),\n",
    "            bus0=\"My bus {}\".format(i),\n",
    "            bus1=\"My bus {}\".format(i+1),\n",
    "            x=0, r=0,\n",
    "            length=0.001)\n",
    "\n",
    "net.plot(layouter=nx.circular_layout)\n"
   ],
   "metadata": {
    "collapsed": false,
    "ExecuteTime": {
     "end_time": "2024-02-02T04:58:34.874929Z",
     "start_time": "2024-02-02T04:58:34.560477200Z"
    }
   }
  },
  {
   "cell_type": "code",
   "execution_count": 53,
   "outputs": [
    {
     "data": {
      "text/plain": "Index(['0 lines', '1 lines', '2 lines', '3 lines', '4 lines', '5 lines',\n       '6 lines', '7 lines', '8 lines', '9 lines'],\n      dtype='object', name='Bus')"
     },
     "execution_count": 53,
     "metadata": {},
     "output_type": "execute_result"
    }
   ],
   "source": [
    "buses = range(10)\n",
    "snapshots = range(7)\n",
    "n = psa.Network()\n",
    "n.set_snapshots(snapshots)\n",
    "n.madd(\"Bus\", buses)\n",
    "\n",
    "# add load as numpy array\n",
    "n.madd(\"Load\",\n",
    "       n.buses.index[:5] + \" load\",\n",
    "       bus=buses[:5],\n",
    "       p_set=np.random.rand(len(snapshots), len(buses)-5))\n",
    "\n",
    "#use a suffix to avoid boilerplate to rename everything\n",
    "gen = [7, 8]\n",
    "for i in gen:\n",
    "    n.add(\"Generator\",\n",
    "           name='my gen {}'.format(i),\n",
    "           bus=i,\n",
    "           p_nom_extendable=True,\n",
    "           capital_cost=1e5,\n",
    "           marginal_cost=i)\n",
    "\n",
    "n.madd(\"Line\", n.buses.index + ' lines',\n",
    "       bus0=buses,\n",
    "       bus1=np.roll(buses,1),\n",
    "       r=0.01, x=0.01)"
   ],
   "metadata": {
    "collapsed": false,
    "ExecuteTime": {
     "end_time": "2024-02-02T04:58:35.328464800Z",
     "start_time": "2024-02-02T04:58:34.997425800Z"
    }
   }
  },
  {
   "cell_type": "code",
   "execution_count": 54,
   "outputs": [
    {
     "name": "stderr",
     "output_type": "stream",
     "text": [
      "INFO:pypsa.pf:Performing non-linear load-flow on AC sub-network SubNetwork 0 for snapshots RangeIndex(start=0, stop=7, step=1, name='snapshot')\n",
      "INFO:pypsa.pf:Newton-Raphson solved in 3 iterations with error of 0.000000 in 0.022238 seconds\n",
      "INFO:pypsa.pf:Newton-Raphson solved in 3 iterations with error of 0.000000 in 0.023272 seconds\n",
      "INFO:pypsa.pf:Newton-Raphson solved in 3 iterations with error of 0.000000 in 0.024377 seconds\n",
      "INFO:pypsa.pf:Newton-Raphson solved in 3 iterations with error of 0.000000 in 0.024944 seconds\n",
      "INFO:pypsa.pf:Newton-Raphson solved in 3 iterations with error of 0.000000 in 0.023321 seconds\n",
      "INFO:pypsa.pf:Newton-Raphson solved in 3 iterations with error of 0.000000 in 0.026489 seconds\n",
      "INFO:pypsa.pf:Newton-Raphson solved in 3 iterations with error of 0.000000 in 0.023317 seconds\n"
     ]
    },
    {
     "data": {
      "application/vnd.plotly.v1+json": {
       "data": [
        {
         "hoverinfo": "text",
         "marker": {
          "color": "cadetblue",
          "size": 10
         },
         "mode": "markers",
         "opacity": 1,
         "text": [
          "Bus 0",
          "Bus 1",
          "Bus 2",
          "Bus 3",
          "Bus 4",
          "Bus 5",
          "Bus 6",
          "Bus 7",
          "Bus 8",
          "Bus 9"
         ],
         "x": [
          -1.0,
          -0.2592592592592593,
          -0.1666666666666667,
          -0.07407407407407414,
          0.01851851851851845,
          0.11111111111111104,
          0.20370370370370364,
          0.2962962962962962,
          0.3888888888888888,
          0.4814814814814814
         ],
         "y": [
          -0.3333333333333333,
          0.40740740740740744,
          0.31481481481481477,
          0.2222222222222222,
          0.12962962962962962,
          0.03703703703703703,
          -0.05555555555555556,
          -0.14814814814814814,
          -0.24074074074074073,
          -0.3333333333333333
         ],
         "type": "scatter"
        },
        {
         "hoverinfo": "text",
         "marker": {
          "opacity": 0.0
         },
         "mode": "markers",
         "text": [
          "Line 0 lines",
          "Line 1 lines",
          "Line 2 lines",
          "Line 3 lines",
          "Line 4 lines",
          "Line 5 lines",
          "Line 6 lines",
          "Line 7 lines",
          "Line 8 lines",
          "Line 9 lines"
         ],
         "x": [
          -0.2592592592592593,
          -0.6296296296296297,
          -0.21296296296296302,
          -0.12037037037037043,
          -0.027777777777777846,
          0.06481481481481474,
          0.15740740740740733,
          0.24999999999999994,
          0.3425925925925925,
          0.4351851851851851
         ],
         "y": [
          -0.3333333333333333,
          0.03703703703703706,
          0.3611111111111111,
          0.2685185185185185,
          0.17592592592592593,
          0.08333333333333333,
          -0.009259259259259266,
          -0.10185185185185185,
          -0.19444444444444442,
          -0.28703703703703703
         ],
         "type": "scatter"
        }
       ],
       "layout": {
        "hovermode": "closest",
        "shapes": [
         {
          "line": {
           "color": "rosybrown",
           "width": 3
          },
          "opacity": 0.8,
          "type": "line",
          "x0": -1.0,
          "x1": 0.4814814814814814,
          "y0": -0.3333333333333333,
          "y1": -0.3333333333333333
         },
         {
          "line": {
           "color": "rosybrown",
           "width": 3
          },
          "opacity": 0.8,
          "type": "line",
          "x0": -0.2592592592592593,
          "x1": -1.0,
          "y0": 0.40740740740740744,
          "y1": -0.3333333333333333
         },
         {
          "line": {
           "color": "rosybrown",
           "width": 3
          },
          "opacity": 0.8,
          "type": "line",
          "x0": -0.1666666666666667,
          "x1": -0.2592592592592593,
          "y0": 0.31481481481481477,
          "y1": 0.40740740740740744
         },
         {
          "line": {
           "color": "rosybrown",
           "width": 3
          },
          "opacity": 0.8,
          "type": "line",
          "x0": -0.07407407407407414,
          "x1": -0.1666666666666667,
          "y0": 0.2222222222222222,
          "y1": 0.31481481481481477
         },
         {
          "line": {
           "color": "rosybrown",
           "width": 3
          },
          "opacity": 0.8,
          "type": "line",
          "x0": 0.01851851851851845,
          "x1": -0.07407407407407414,
          "y0": 0.12962962962962962,
          "y1": 0.2222222222222222
         },
         {
          "line": {
           "color": "rosybrown",
           "width": 3
          },
          "opacity": 0.8,
          "type": "line",
          "x0": 0.11111111111111104,
          "x1": 0.01851851851851845,
          "y0": 0.03703703703703703,
          "y1": 0.12962962962962962
         },
         {
          "line": {
           "color": "rosybrown",
           "width": 3
          },
          "opacity": 0.8,
          "type": "line",
          "x0": 0.20370370370370364,
          "x1": 0.11111111111111104,
          "y0": -0.05555555555555556,
          "y1": 0.03703703703703703
         },
         {
          "line": {
           "color": "rosybrown",
           "width": 3
          },
          "opacity": 0.8,
          "type": "line",
          "x0": 0.2962962962962962,
          "x1": 0.20370370370370364,
          "y0": -0.14814814814814814,
          "y1": -0.05555555555555556
         },
         {
          "line": {
           "color": "rosybrown",
           "width": 3
          },
          "opacity": 0.8,
          "type": "line",
          "x0": 0.3888888888888888,
          "x1": 0.2962962962962962,
          "y0": -0.24074074074074073,
          "y1": -0.14814814814814814
         },
         {
          "line": {
           "color": "rosybrown",
           "width": 3
          },
          "opacity": 0.8,
          "type": "line",
          "x0": 0.4814814814814814,
          "x1": 0.3888888888888888,
          "y0": -0.3333333333333333,
          "y1": -0.24074074074074073
         }
        ],
        "showlegend": false,
        "template": {
         "data": {
          "barpolar": [
           {
            "marker": {
             "line": {
              "color": "#E5ECF6",
              "width": 0.5
             },
             "pattern": {
              "fillmode": "overlay",
              "size": 10,
              "solidity": 0.2
             }
            },
            "type": "barpolar"
           }
          ],
          "bar": [
           {
            "error_x": {
             "color": "#2a3f5f"
            },
            "error_y": {
             "color": "#2a3f5f"
            },
            "marker": {
             "line": {
              "color": "#E5ECF6",
              "width": 0.5
             },
             "pattern": {
              "fillmode": "overlay",
              "size": 10,
              "solidity": 0.2
             }
            },
            "type": "bar"
           }
          ],
          "carpet": [
           {
            "aaxis": {
             "endlinecolor": "#2a3f5f",
             "gridcolor": "white",
             "linecolor": "white",
             "minorgridcolor": "white",
             "startlinecolor": "#2a3f5f"
            },
            "baxis": {
             "endlinecolor": "#2a3f5f",
             "gridcolor": "white",
             "linecolor": "white",
             "minorgridcolor": "white",
             "startlinecolor": "#2a3f5f"
            },
            "type": "carpet"
           }
          ],
          "choropleth": [
           {
            "colorbar": {
             "outlinewidth": 0,
             "ticks": ""
            },
            "type": "choropleth"
           }
          ],
          "contourcarpet": [
           {
            "colorbar": {
             "outlinewidth": 0,
             "ticks": ""
            },
            "type": "contourcarpet"
           }
          ],
          "contour": [
           {
            "colorbar": {
             "outlinewidth": 0,
             "ticks": ""
            },
            "colorscale": [
             [
              0.0,
              "#0d0887"
             ],
             [
              0.1111111111111111,
              "#46039f"
             ],
             [
              0.2222222222222222,
              "#7201a8"
             ],
             [
              0.3333333333333333,
              "#9c179e"
             ],
             [
              0.4444444444444444,
              "#bd3786"
             ],
             [
              0.5555555555555556,
              "#d8576b"
             ],
             [
              0.6666666666666666,
              "#ed7953"
             ],
             [
              0.7777777777777778,
              "#fb9f3a"
             ],
             [
              0.8888888888888888,
              "#fdca26"
             ],
             [
              1.0,
              "#f0f921"
             ]
            ],
            "type": "contour"
           }
          ],
          "heatmapgl": [
           {
            "colorbar": {
             "outlinewidth": 0,
             "ticks": ""
            },
            "colorscale": [
             [
              0.0,
              "#0d0887"
             ],
             [
              0.1111111111111111,
              "#46039f"
             ],
             [
              0.2222222222222222,
              "#7201a8"
             ],
             [
              0.3333333333333333,
              "#9c179e"
             ],
             [
              0.4444444444444444,
              "#bd3786"
             ],
             [
              0.5555555555555556,
              "#d8576b"
             ],
             [
              0.6666666666666666,
              "#ed7953"
             ],
             [
              0.7777777777777778,
              "#fb9f3a"
             ],
             [
              0.8888888888888888,
              "#fdca26"
             ],
             [
              1.0,
              "#f0f921"
             ]
            ],
            "type": "heatmapgl"
           }
          ],
          "heatmap": [
           {
            "colorbar": {
             "outlinewidth": 0,
             "ticks": ""
            },
            "colorscale": [
             [
              0.0,
              "#0d0887"
             ],
             [
              0.1111111111111111,
              "#46039f"
             ],
             [
              0.2222222222222222,
              "#7201a8"
             ],
             [
              0.3333333333333333,
              "#9c179e"
             ],
             [
              0.4444444444444444,
              "#bd3786"
             ],
             [
              0.5555555555555556,
              "#d8576b"
             ],
             [
              0.6666666666666666,
              "#ed7953"
             ],
             [
              0.7777777777777778,
              "#fb9f3a"
             ],
             [
              0.8888888888888888,
              "#fdca26"
             ],
             [
              1.0,
              "#f0f921"
             ]
            ],
            "type": "heatmap"
           }
          ],
          "histogram2dcontour": [
           {
            "colorbar": {
             "outlinewidth": 0,
             "ticks": ""
            },
            "colorscale": [
             [
              0.0,
              "#0d0887"
             ],
             [
              0.1111111111111111,
              "#46039f"
             ],
             [
              0.2222222222222222,
              "#7201a8"
             ],
             [
              0.3333333333333333,
              "#9c179e"
             ],
             [
              0.4444444444444444,
              "#bd3786"
             ],
             [
              0.5555555555555556,
              "#d8576b"
             ],
             [
              0.6666666666666666,
              "#ed7953"
             ],
             [
              0.7777777777777778,
              "#fb9f3a"
             ],
             [
              0.8888888888888888,
              "#fdca26"
             ],
             [
              1.0,
              "#f0f921"
             ]
            ],
            "type": "histogram2dcontour"
           }
          ],
          "histogram2d": [
           {
            "colorbar": {
             "outlinewidth": 0,
             "ticks": ""
            },
            "colorscale": [
             [
              0.0,
              "#0d0887"
             ],
             [
              0.1111111111111111,
              "#46039f"
             ],
             [
              0.2222222222222222,
              "#7201a8"
             ],
             [
              0.3333333333333333,
              "#9c179e"
             ],
             [
              0.4444444444444444,
              "#bd3786"
             ],
             [
              0.5555555555555556,
              "#d8576b"
             ],
             [
              0.6666666666666666,
              "#ed7953"
             ],
             [
              0.7777777777777778,
              "#fb9f3a"
             ],
             [
              0.8888888888888888,
              "#fdca26"
             ],
             [
              1.0,
              "#f0f921"
             ]
            ],
            "type": "histogram2d"
           }
          ],
          "histogram": [
           {
            "marker": {
             "pattern": {
              "fillmode": "overlay",
              "size": 10,
              "solidity": 0.2
             }
            },
            "type": "histogram"
           }
          ],
          "mesh3d": [
           {
            "colorbar": {
             "outlinewidth": 0,
             "ticks": ""
            },
            "type": "mesh3d"
           }
          ],
          "parcoords": [
           {
            "line": {
             "colorbar": {
              "outlinewidth": 0,
              "ticks": ""
             }
            },
            "type": "parcoords"
           }
          ],
          "pie": [
           {
            "automargin": true,
            "type": "pie"
           }
          ],
          "scatter3d": [
           {
            "line": {
             "colorbar": {
              "outlinewidth": 0,
              "ticks": ""
             }
            },
            "marker": {
             "colorbar": {
              "outlinewidth": 0,
              "ticks": ""
             }
            },
            "type": "scatter3d"
           }
          ],
          "scattercarpet": [
           {
            "marker": {
             "colorbar": {
              "outlinewidth": 0,
              "ticks": ""
             }
            },
            "type": "scattercarpet"
           }
          ],
          "scattergeo": [
           {
            "marker": {
             "colorbar": {
              "outlinewidth": 0,
              "ticks": ""
             }
            },
            "type": "scattergeo"
           }
          ],
          "scattergl": [
           {
            "marker": {
             "colorbar": {
              "outlinewidth": 0,
              "ticks": ""
             }
            },
            "type": "scattergl"
           }
          ],
          "scattermapbox": [
           {
            "marker": {
             "colorbar": {
              "outlinewidth": 0,
              "ticks": ""
             }
            },
            "type": "scattermapbox"
           }
          ],
          "scatterpolargl": [
           {
            "marker": {
             "colorbar": {
              "outlinewidth": 0,
              "ticks": ""
             }
            },
            "type": "scatterpolargl"
           }
          ],
          "scatterpolar": [
           {
            "marker": {
             "colorbar": {
              "outlinewidth": 0,
              "ticks": ""
             }
            },
            "type": "scatterpolar"
           }
          ],
          "scatter": [
           {
            "fillpattern": {
             "fillmode": "overlay",
             "size": 10,
             "solidity": 0.2
            },
            "type": "scatter"
           }
          ],
          "scatterternary": [
           {
            "marker": {
             "colorbar": {
              "outlinewidth": 0,
              "ticks": ""
             }
            },
            "type": "scatterternary"
           }
          ],
          "surface": [
           {
            "colorbar": {
             "outlinewidth": 0,
             "ticks": ""
            },
            "colorscale": [
             [
              0.0,
              "#0d0887"
             ],
             [
              0.1111111111111111,
              "#46039f"
             ],
             [
              0.2222222222222222,
              "#7201a8"
             ],
             [
              0.3333333333333333,
              "#9c179e"
             ],
             [
              0.4444444444444444,
              "#bd3786"
             ],
             [
              0.5555555555555556,
              "#d8576b"
             ],
             [
              0.6666666666666666,
              "#ed7953"
             ],
             [
              0.7777777777777778,
              "#fb9f3a"
             ],
             [
              0.8888888888888888,
              "#fdca26"
             ],
             [
              1.0,
              "#f0f921"
             ]
            ],
            "type": "surface"
           }
          ],
          "table": [
           {
            "cells": {
             "fill": {
              "color": "#EBF0F8"
             },
             "line": {
              "color": "white"
             }
            },
            "header": {
             "fill": {
              "color": "#C8D4E3"
             },
             "line": {
              "color": "white"
             }
            },
            "type": "table"
           }
          ]
         },
         "layout": {
          "annotationdefaults": {
           "arrowcolor": "#2a3f5f",
           "arrowhead": 0,
           "arrowwidth": 1
          },
          "autotypenumbers": "strict",
          "coloraxis": {
           "colorbar": {
            "outlinewidth": 0,
            "ticks": ""
           }
          },
          "colorscale": {
           "diverging": [
            [
             0,
             "#8e0152"
            ],
            [
             0.1,
             "#c51b7d"
            ],
            [
             0.2,
             "#de77ae"
            ],
            [
             0.3,
             "#f1b6da"
            ],
            [
             0.4,
             "#fde0ef"
            ],
            [
             0.5,
             "#f7f7f7"
            ],
            [
             0.6,
             "#e6f5d0"
            ],
            [
             0.7,
             "#b8e186"
            ],
            [
             0.8,
             "#7fbc41"
            ],
            [
             0.9,
             "#4d9221"
            ],
            [
             1,
             "#276419"
            ]
           ],
           "sequential": [
            [
             0.0,
             "#0d0887"
            ],
            [
             0.1111111111111111,
             "#46039f"
            ],
            [
             0.2222222222222222,
             "#7201a8"
            ],
            [
             0.3333333333333333,
             "#9c179e"
            ],
            [
             0.4444444444444444,
             "#bd3786"
            ],
            [
             0.5555555555555556,
             "#d8576b"
            ],
            [
             0.6666666666666666,
             "#ed7953"
            ],
            [
             0.7777777777777778,
             "#fb9f3a"
            ],
            [
             0.8888888888888888,
             "#fdca26"
            ],
            [
             1.0,
             "#f0f921"
            ]
           ],
           "sequentialminus": [
            [
             0.0,
             "#0d0887"
            ],
            [
             0.1111111111111111,
             "#46039f"
            ],
            [
             0.2222222222222222,
             "#7201a8"
            ],
            [
             0.3333333333333333,
             "#9c179e"
            ],
            [
             0.4444444444444444,
             "#bd3786"
            ],
            [
             0.5555555555555556,
             "#d8576b"
            ],
            [
             0.6666666666666666,
             "#ed7953"
            ],
            [
             0.7777777777777778,
             "#fb9f3a"
            ],
            [
             0.8888888888888888,
             "#fdca26"
            ],
            [
             1.0,
             "#f0f921"
            ]
           ]
          },
          "colorway": [
           "#636efa",
           "#EF553B",
           "#00cc96",
           "#ab63fa",
           "#FFA15A",
           "#19d3f3",
           "#FF6692",
           "#B6E880",
           "#FF97FF",
           "#FECB52"
          ],
          "font": {
           "color": "#2a3f5f"
          },
          "geo": {
           "bgcolor": "white",
           "lakecolor": "white",
           "landcolor": "#E5ECF6",
           "showlakes": true,
           "showland": true,
           "subunitcolor": "white"
          },
          "hoverlabel": {
           "align": "left"
          },
          "hovermode": "closest",
          "mapbox": {
           "style": "light"
          },
          "paper_bgcolor": "white",
          "plot_bgcolor": "#E5ECF6",
          "polar": {
           "angularaxis": {
            "gridcolor": "white",
            "linecolor": "white",
            "ticks": ""
           },
           "bgcolor": "#E5ECF6",
           "radialaxis": {
            "gridcolor": "white",
            "linecolor": "white",
            "ticks": ""
           }
          },
          "scene": {
           "xaxis": {
            "backgroundcolor": "#E5ECF6",
            "gridcolor": "white",
            "gridwidth": 2,
            "linecolor": "white",
            "showbackground": true,
            "ticks": "",
            "zerolinecolor": "white"
           },
           "yaxis": {
            "backgroundcolor": "#E5ECF6",
            "gridcolor": "white",
            "gridwidth": 2,
            "linecolor": "white",
            "showbackground": true,
            "ticks": "",
            "zerolinecolor": "white"
           },
           "zaxis": {
            "backgroundcolor": "#E5ECF6",
            "gridcolor": "white",
            "gridwidth": 2,
            "linecolor": "white",
            "showbackground": true,
            "ticks": "",
            "zerolinecolor": "white"
           }
          },
          "shapedefaults": {
           "line": {
            "color": "#2a3f5f"
           }
          },
          "ternary": {
           "aaxis": {
            "gridcolor": "white",
            "linecolor": "white",
            "ticks": ""
           },
           "baxis": {
            "gridcolor": "white",
            "linecolor": "white",
            "ticks": ""
           },
           "bgcolor": "#E5ECF6",
           "caxis": {
            "gridcolor": "white",
            "linecolor": "white",
            "ticks": ""
           }
          },
          "title": {
           "x": 0.05
          },
          "xaxis": {
           "automargin": true,
           "gridcolor": "white",
           "linecolor": "white",
           "ticks": "",
           "title": {
            "standoff": 15
           },
           "zerolinecolor": "white",
           "zerolinewidth": 2
          },
          "yaxis": {
           "automargin": true,
           "gridcolor": "white",
           "linecolor": "white",
           "ticks": "",
           "title": {
            "standoff": 15
           },
           "zerolinecolor": "white",
           "zerolinewidth": 2
          }
         }
        },
        "title": {
         "text": ""
        }
       },
       "config": {
        "showLink": false,
        "linkText": "Export to plot.ly",
        "plotlyServerURL": "https://plot.ly"
       }
      },
      "text/html": "<div>                            <div id=\"7d72a40d-eb6f-4d81-80d5-7d4d4621a5a9\" class=\"plotly-graph-div\" style=\"height:525px; width:100%;\"></div>            <script type=\"text/javascript\">                require([\"plotly\"], function(Plotly) {                    window.PLOTLYENV=window.PLOTLYENV || {};                                    if (document.getElementById(\"7d72a40d-eb6f-4d81-80d5-7d4d4621a5a9\")) {                    Plotly.newPlot(                        \"7d72a40d-eb6f-4d81-80d5-7d4d4621a5a9\",                        [{\"hoverinfo\":\"text\",\"marker\":{\"color\":\"cadetblue\",\"size\":10},\"mode\":\"markers\",\"opacity\":1,\"text\":[\"Bus 0\",\"Bus 1\",\"Bus 2\",\"Bus 3\",\"Bus 4\",\"Bus 5\",\"Bus 6\",\"Bus 7\",\"Bus 8\",\"Bus 9\"],\"x\":[-1.0,-0.2592592592592593,-0.1666666666666667,-0.07407407407407414,0.01851851851851845,0.11111111111111104,0.20370370370370364,0.2962962962962962,0.3888888888888888,0.4814814814814814],\"y\":[-0.3333333333333333,0.40740740740740744,0.31481481481481477,0.2222222222222222,0.12962962962962962,0.03703703703703703,-0.05555555555555556,-0.14814814814814814,-0.24074074074074073,-0.3333333333333333],\"type\":\"scatter\"},{\"hoverinfo\":\"text\",\"marker\":{\"opacity\":0.0},\"mode\":\"markers\",\"text\":[\"Line 0 lines\",\"Line 1 lines\",\"Line 2 lines\",\"Line 3 lines\",\"Line 4 lines\",\"Line 5 lines\",\"Line 6 lines\",\"Line 7 lines\",\"Line 8 lines\",\"Line 9 lines\"],\"x\":[-0.2592592592592593,-0.6296296296296297,-0.21296296296296302,-0.12037037037037043,-0.027777777777777846,0.06481481481481474,0.15740740740740733,0.24999999999999994,0.3425925925925925,0.4351851851851851],\"y\":[-0.3333333333333333,0.03703703703703706,0.3611111111111111,0.2685185185185185,0.17592592592592593,0.08333333333333333,-0.009259259259259266,-0.10185185185185185,-0.19444444444444442,-0.28703703703703703],\"type\":\"scatter\"}],                        {\"hovermode\":\"closest\",\"shapes\":[{\"line\":{\"color\":\"rosybrown\",\"width\":3},\"opacity\":0.8,\"type\":\"line\",\"x0\":-1.0,\"x1\":0.4814814814814814,\"y0\":-0.3333333333333333,\"y1\":-0.3333333333333333},{\"line\":{\"color\":\"rosybrown\",\"width\":3},\"opacity\":0.8,\"type\":\"line\",\"x0\":-0.2592592592592593,\"x1\":-1.0,\"y0\":0.40740740740740744,\"y1\":-0.3333333333333333},{\"line\":{\"color\":\"rosybrown\",\"width\":3},\"opacity\":0.8,\"type\":\"line\",\"x0\":-0.1666666666666667,\"x1\":-0.2592592592592593,\"y0\":0.31481481481481477,\"y1\":0.40740740740740744},{\"line\":{\"color\":\"rosybrown\",\"width\":3},\"opacity\":0.8,\"type\":\"line\",\"x0\":-0.07407407407407414,\"x1\":-0.1666666666666667,\"y0\":0.2222222222222222,\"y1\":0.31481481481481477},{\"line\":{\"color\":\"rosybrown\",\"width\":3},\"opacity\":0.8,\"type\":\"line\",\"x0\":0.01851851851851845,\"x1\":-0.07407407407407414,\"y0\":0.12962962962962962,\"y1\":0.2222222222222222},{\"line\":{\"color\":\"rosybrown\",\"width\":3},\"opacity\":0.8,\"type\":\"line\",\"x0\":0.11111111111111104,\"x1\":0.01851851851851845,\"y0\":0.03703703703703703,\"y1\":0.12962962962962962},{\"line\":{\"color\":\"rosybrown\",\"width\":3},\"opacity\":0.8,\"type\":\"line\",\"x0\":0.20370370370370364,\"x1\":0.11111111111111104,\"y0\":-0.05555555555555556,\"y1\":0.03703703703703703},{\"line\":{\"color\":\"rosybrown\",\"width\":3},\"opacity\":0.8,\"type\":\"line\",\"x0\":0.2962962962962962,\"x1\":0.20370370370370364,\"y0\":-0.14814814814814814,\"y1\":-0.05555555555555556},{\"line\":{\"color\":\"rosybrown\",\"width\":3},\"opacity\":0.8,\"type\":\"line\",\"x0\":0.3888888888888888,\"x1\":0.2962962962962962,\"y0\":-0.24074074074074073,\"y1\":-0.14814814814814814},{\"line\":{\"color\":\"rosybrown\",\"width\":3},\"opacity\":0.8,\"type\":\"line\",\"x0\":0.4814814814814814,\"x1\":0.3888888888888888,\"y0\":-0.3333333333333333,\"y1\":-0.24074074074074073}],\"showlegend\":false,\"template\":{\"data\":{\"barpolar\":[{\"marker\":{\"line\":{\"color\":\"#E5ECF6\",\"width\":0.5},\"pattern\":{\"fillmode\":\"overlay\",\"size\":10,\"solidity\":0.2}},\"type\":\"barpolar\"}],\"bar\":[{\"error_x\":{\"color\":\"#2a3f5f\"},\"error_y\":{\"color\":\"#2a3f5f\"},\"marker\":{\"line\":{\"color\":\"#E5ECF6\",\"width\":0.5},\"pattern\":{\"fillmode\":\"overlay\",\"size\":10,\"solidity\":0.2}},\"type\":\"bar\"}],\"carpet\":[{\"aaxis\":{\"endlinecolor\":\"#2a3f5f\",\"gridcolor\":\"white\",\"linecolor\":\"white\",\"minorgridcolor\":\"white\",\"startlinecolor\":\"#2a3f5f\"},\"baxis\":{\"endlinecolor\":\"#2a3f5f\",\"gridcolor\":\"white\",\"linecolor\":\"white\",\"minorgridcolor\":\"white\",\"startlinecolor\":\"#2a3f5f\"},\"type\":\"carpet\"}],\"choropleth\":[{\"colorbar\":{\"outlinewidth\":0,\"ticks\":\"\"},\"type\":\"choropleth\"}],\"contourcarpet\":[{\"colorbar\":{\"outlinewidth\":0,\"ticks\":\"\"},\"type\":\"contourcarpet\"}],\"contour\":[{\"colorbar\":{\"outlinewidth\":0,\"ticks\":\"\"},\"colorscale\":[[0.0,\"#0d0887\"],[0.1111111111111111,\"#46039f\"],[0.2222222222222222,\"#7201a8\"],[0.3333333333333333,\"#9c179e\"],[0.4444444444444444,\"#bd3786\"],[0.5555555555555556,\"#d8576b\"],[0.6666666666666666,\"#ed7953\"],[0.7777777777777778,\"#fb9f3a\"],[0.8888888888888888,\"#fdca26\"],[1.0,\"#f0f921\"]],\"type\":\"contour\"}],\"heatmapgl\":[{\"colorbar\":{\"outlinewidth\":0,\"ticks\":\"\"},\"colorscale\":[[0.0,\"#0d0887\"],[0.1111111111111111,\"#46039f\"],[0.2222222222222222,\"#7201a8\"],[0.3333333333333333,\"#9c179e\"],[0.4444444444444444,\"#bd3786\"],[0.5555555555555556,\"#d8576b\"],[0.6666666666666666,\"#ed7953\"],[0.7777777777777778,\"#fb9f3a\"],[0.8888888888888888,\"#fdca26\"],[1.0,\"#f0f921\"]],\"type\":\"heatmapgl\"}],\"heatmap\":[{\"colorbar\":{\"outlinewidth\":0,\"ticks\":\"\"},\"colorscale\":[[0.0,\"#0d0887\"],[0.1111111111111111,\"#46039f\"],[0.2222222222222222,\"#7201a8\"],[0.3333333333333333,\"#9c179e\"],[0.4444444444444444,\"#bd3786\"],[0.5555555555555556,\"#d8576b\"],[0.6666666666666666,\"#ed7953\"],[0.7777777777777778,\"#fb9f3a\"],[0.8888888888888888,\"#fdca26\"],[1.0,\"#f0f921\"]],\"type\":\"heatmap\"}],\"histogram2dcontour\":[{\"colorbar\":{\"outlinewidth\":0,\"ticks\":\"\"},\"colorscale\":[[0.0,\"#0d0887\"],[0.1111111111111111,\"#46039f\"],[0.2222222222222222,\"#7201a8\"],[0.3333333333333333,\"#9c179e\"],[0.4444444444444444,\"#bd3786\"],[0.5555555555555556,\"#d8576b\"],[0.6666666666666666,\"#ed7953\"],[0.7777777777777778,\"#fb9f3a\"],[0.8888888888888888,\"#fdca26\"],[1.0,\"#f0f921\"]],\"type\":\"histogram2dcontour\"}],\"histogram2d\":[{\"colorbar\":{\"outlinewidth\":0,\"ticks\":\"\"},\"colorscale\":[[0.0,\"#0d0887\"],[0.1111111111111111,\"#46039f\"],[0.2222222222222222,\"#7201a8\"],[0.3333333333333333,\"#9c179e\"],[0.4444444444444444,\"#bd3786\"],[0.5555555555555556,\"#d8576b\"],[0.6666666666666666,\"#ed7953\"],[0.7777777777777778,\"#fb9f3a\"],[0.8888888888888888,\"#fdca26\"],[1.0,\"#f0f921\"]],\"type\":\"histogram2d\"}],\"histogram\":[{\"marker\":{\"pattern\":{\"fillmode\":\"overlay\",\"size\":10,\"solidity\":0.2}},\"type\":\"histogram\"}],\"mesh3d\":[{\"colorbar\":{\"outlinewidth\":0,\"ticks\":\"\"},\"type\":\"mesh3d\"}],\"parcoords\":[{\"line\":{\"colorbar\":{\"outlinewidth\":0,\"ticks\":\"\"}},\"type\":\"parcoords\"}],\"pie\":[{\"automargin\":true,\"type\":\"pie\"}],\"scatter3d\":[{\"line\":{\"colorbar\":{\"outlinewidth\":0,\"ticks\":\"\"}},\"marker\":{\"colorbar\":{\"outlinewidth\":0,\"ticks\":\"\"}},\"type\":\"scatter3d\"}],\"scattercarpet\":[{\"marker\":{\"colorbar\":{\"outlinewidth\":0,\"ticks\":\"\"}},\"type\":\"scattercarpet\"}],\"scattergeo\":[{\"marker\":{\"colorbar\":{\"outlinewidth\":0,\"ticks\":\"\"}},\"type\":\"scattergeo\"}],\"scattergl\":[{\"marker\":{\"colorbar\":{\"outlinewidth\":0,\"ticks\":\"\"}},\"type\":\"scattergl\"}],\"scattermapbox\":[{\"marker\":{\"colorbar\":{\"outlinewidth\":0,\"ticks\":\"\"}},\"type\":\"scattermapbox\"}],\"scatterpolargl\":[{\"marker\":{\"colorbar\":{\"outlinewidth\":0,\"ticks\":\"\"}},\"type\":\"scatterpolargl\"}],\"scatterpolar\":[{\"marker\":{\"colorbar\":{\"outlinewidth\":0,\"ticks\":\"\"}},\"type\":\"scatterpolar\"}],\"scatter\":[{\"fillpattern\":{\"fillmode\":\"overlay\",\"size\":10,\"solidity\":0.2},\"type\":\"scatter\"}],\"scatterternary\":[{\"marker\":{\"colorbar\":{\"outlinewidth\":0,\"ticks\":\"\"}},\"type\":\"scatterternary\"}],\"surface\":[{\"colorbar\":{\"outlinewidth\":0,\"ticks\":\"\"},\"colorscale\":[[0.0,\"#0d0887\"],[0.1111111111111111,\"#46039f\"],[0.2222222222222222,\"#7201a8\"],[0.3333333333333333,\"#9c179e\"],[0.4444444444444444,\"#bd3786\"],[0.5555555555555556,\"#d8576b\"],[0.6666666666666666,\"#ed7953\"],[0.7777777777777778,\"#fb9f3a\"],[0.8888888888888888,\"#fdca26\"],[1.0,\"#f0f921\"]],\"type\":\"surface\"}],\"table\":[{\"cells\":{\"fill\":{\"color\":\"#EBF0F8\"},\"line\":{\"color\":\"white\"}},\"header\":{\"fill\":{\"color\":\"#C8D4E3\"},\"line\":{\"color\":\"white\"}},\"type\":\"table\"}]},\"layout\":{\"annotationdefaults\":{\"arrowcolor\":\"#2a3f5f\",\"arrowhead\":0,\"arrowwidth\":1},\"autotypenumbers\":\"strict\",\"coloraxis\":{\"colorbar\":{\"outlinewidth\":0,\"ticks\":\"\"}},\"colorscale\":{\"diverging\":[[0,\"#8e0152\"],[0.1,\"#c51b7d\"],[0.2,\"#de77ae\"],[0.3,\"#f1b6da\"],[0.4,\"#fde0ef\"],[0.5,\"#f7f7f7\"],[0.6,\"#e6f5d0\"],[0.7,\"#b8e186\"],[0.8,\"#7fbc41\"],[0.9,\"#4d9221\"],[1,\"#276419\"]],\"sequential\":[[0.0,\"#0d0887\"],[0.1111111111111111,\"#46039f\"],[0.2222222222222222,\"#7201a8\"],[0.3333333333333333,\"#9c179e\"],[0.4444444444444444,\"#bd3786\"],[0.5555555555555556,\"#d8576b\"],[0.6666666666666666,\"#ed7953\"],[0.7777777777777778,\"#fb9f3a\"],[0.8888888888888888,\"#fdca26\"],[1.0,\"#f0f921\"]],\"sequentialminus\":[[0.0,\"#0d0887\"],[0.1111111111111111,\"#46039f\"],[0.2222222222222222,\"#7201a8\"],[0.3333333333333333,\"#9c179e\"],[0.4444444444444444,\"#bd3786\"],[0.5555555555555556,\"#d8576b\"],[0.6666666666666666,\"#ed7953\"],[0.7777777777777778,\"#fb9f3a\"],[0.8888888888888888,\"#fdca26\"],[1.0,\"#f0f921\"]]},\"colorway\":[\"#636efa\",\"#EF553B\",\"#00cc96\",\"#ab63fa\",\"#FFA15A\",\"#19d3f3\",\"#FF6692\",\"#B6E880\",\"#FF97FF\",\"#FECB52\"],\"font\":{\"color\":\"#2a3f5f\"},\"geo\":{\"bgcolor\":\"white\",\"lakecolor\":\"white\",\"landcolor\":\"#E5ECF6\",\"showlakes\":true,\"showland\":true,\"subunitcolor\":\"white\"},\"hoverlabel\":{\"align\":\"left\"},\"hovermode\":\"closest\",\"mapbox\":{\"style\":\"light\"},\"paper_bgcolor\":\"white\",\"plot_bgcolor\":\"#E5ECF6\",\"polar\":{\"angularaxis\":{\"gridcolor\":\"white\",\"linecolor\":\"white\",\"ticks\":\"\"},\"bgcolor\":\"#E5ECF6\",\"radialaxis\":{\"gridcolor\":\"white\",\"linecolor\":\"white\",\"ticks\":\"\"}},\"scene\":{\"xaxis\":{\"backgroundcolor\":\"#E5ECF6\",\"gridcolor\":\"white\",\"gridwidth\":2,\"linecolor\":\"white\",\"showbackground\":true,\"ticks\":\"\",\"zerolinecolor\":\"white\"},\"yaxis\":{\"backgroundcolor\":\"#E5ECF6\",\"gridcolor\":\"white\",\"gridwidth\":2,\"linecolor\":\"white\",\"showbackground\":true,\"ticks\":\"\",\"zerolinecolor\":\"white\"},\"zaxis\":{\"backgroundcolor\":\"#E5ECF6\",\"gridcolor\":\"white\",\"gridwidth\":2,\"linecolor\":\"white\",\"showbackground\":true,\"ticks\":\"\",\"zerolinecolor\":\"white\"}},\"shapedefaults\":{\"line\":{\"color\":\"#2a3f5f\"}},\"ternary\":{\"aaxis\":{\"gridcolor\":\"white\",\"linecolor\":\"white\",\"ticks\":\"\"},\"baxis\":{\"gridcolor\":\"white\",\"linecolor\":\"white\",\"ticks\":\"\"},\"bgcolor\":\"#E5ECF6\",\"caxis\":{\"gridcolor\":\"white\",\"linecolor\":\"white\",\"ticks\":\"\"}},\"title\":{\"x\":0.05},\"xaxis\":{\"automargin\":true,\"gridcolor\":\"white\",\"linecolor\":\"white\",\"ticks\":\"\",\"title\":{\"standoff\":15},\"zerolinecolor\":\"white\",\"zerolinewidth\":2},\"yaxis\":{\"automargin\":true,\"gridcolor\":\"white\",\"linecolor\":\"white\",\"ticks\":\"\",\"title\":{\"standoff\":15},\"zerolinecolor\":\"white\",\"zerolinewidth\":2}}},\"title\":{\"text\":\"\"}},                        {\"responsive\": true}                    ).then(function(){\n                            \nvar gd = document.getElementById('7d72a40d-eb6f-4d81-80d5-7d4d4621a5a9');\nvar x = new MutationObserver(function (mutations, observer) {{\n        var display = window.getComputedStyle(gd).display;\n        if (!display || display === 'none') {{\n            console.log([gd, 'removed!']);\n            Plotly.purge(gd);\n            observer.disconnect();\n        }}\n}});\n\n// Listen for the removal of the full notebook cells\nvar notebookContainer = gd.closest('#notebook-container');\nif (notebookContainer) {{\n    x.observe(notebookContainer, {childList: true});\n}}\n\n// Listen for the clearing of the current output cell\nvar outputEl = gd.closest('.output');\nif (outputEl) {{\n    x.observe(outputEl, {childList: true});\n}}\n\n                        })                };                });            </script>        </div>"
     },
     "metadata": {},
     "output_type": "display_data"
    },
    {
     "data": {
      "text/plain": "{'data': [{'x': 0   -1.000000\n   1   -0.259259\n   2   -0.166667\n   3   -0.074074\n   4    0.018519\n   5    0.111111\n   6    0.203704\n   7    0.296296\n   8    0.388889\n   9    0.481481\n   Name: x, dtype: float64,\n   'y': 0   -0.333333\n   1    0.407407\n   2    0.314815\n   3    0.222222\n   4    0.129630\n   5    0.037037\n   6   -0.055556\n   7   -0.148148\n   8   -0.240741\n   9   -0.333333\n   Name: y, dtype: float64,\n   'text': Index(['Bus 0', 'Bus 1', 'Bus 2', 'Bus 3', 'Bus 4', 'Bus 5', 'Bus 6', 'Bus 7',\n          'Bus 8', 'Bus 9'],\n         dtype='object', name='Bus'),\n   'type': 'scatter',\n   'mode': 'markers',\n   'hoverinfo': 'text',\n   'opacity': 1,\n   'marker': {'color': 'cadetblue', 'size': 10}},\n  {'x': Line\n   0 lines   -0.259259\n   1 lines   -0.629630\n   2 lines   -0.212963\n   3 lines   -0.120370\n   4 lines   -0.027778\n   5 lines    0.064815\n   6 lines    0.157407\n   7 lines    0.250000\n   8 lines    0.342593\n   9 lines    0.435185\n   dtype: float64,\n   'y': Line\n   0 lines   -0.333333\n   1 lines    0.037037\n   2 lines    0.361111\n   3 lines    0.268519\n   4 lines    0.175926\n   5 lines    0.083333\n   6 lines   -0.009259\n   7 lines   -0.101852\n   8 lines   -0.194444\n   9 lines   -0.287037\n   dtype: float64,\n   'text': Index(['Line 0 lines', 'Line 1 lines', 'Line 2 lines', 'Line 3 lines',\n          'Line 4 lines', 'Line 5 lines', 'Line 6 lines', 'Line 7 lines',\n          'Line 8 lines', 'Line 9 lines'],\n         dtype='object', name='Line'),\n   'type': 'scatter',\n   'mode': 'markers',\n   'hoverinfo': 'text',\n   'marker': {'opacity': 0.0}}],\n 'layout': {'title': '',\n  'hovermode': 'closest',\n  'showlegend': False,\n  'shapes': [{'type': 'line',\n    'opacity': 0.8,\n    'x0': -1.0,\n    'y0': -0.3333333333333333,\n    'x1': 0.4814814814814814,\n    'y1': -0.3333333333333333,\n    'line': {'color': 'rosybrown', 'width': 3}},\n   {'type': 'line',\n    'opacity': 0.8,\n    'x0': -0.2592592592592593,\n    'y0': 0.40740740740740744,\n    'x1': -1.0,\n    'y1': -0.3333333333333333,\n    'line': {'color': 'rosybrown', 'width': 3}},\n   {'type': 'line',\n    'opacity': 0.8,\n    'x0': -0.1666666666666667,\n    'y0': 0.31481481481481477,\n    'x1': -0.2592592592592593,\n    'y1': 0.40740740740740744,\n    'line': {'color': 'rosybrown', 'width': 3}},\n   {'type': 'line',\n    'opacity': 0.8,\n    'x0': -0.07407407407407414,\n    'y0': 0.2222222222222222,\n    'x1': -0.1666666666666667,\n    'y1': 0.31481481481481477,\n    'line': {'color': 'rosybrown', 'width': 3}},\n   {'type': 'line',\n    'opacity': 0.8,\n    'x0': 0.01851851851851845,\n    'y0': 0.12962962962962962,\n    'x1': -0.07407407407407414,\n    'y1': 0.2222222222222222,\n    'line': {'color': 'rosybrown', 'width': 3}},\n   {'type': 'line',\n    'opacity': 0.8,\n    'x0': 0.11111111111111104,\n    'y0': 0.03703703703703703,\n    'x1': 0.01851851851851845,\n    'y1': 0.12962962962962962,\n    'line': {'color': 'rosybrown', 'width': 3}},\n   {'type': 'line',\n    'opacity': 0.8,\n    'x0': 0.20370370370370364,\n    'y0': -0.05555555555555556,\n    'x1': 0.11111111111111104,\n    'y1': 0.03703703703703703,\n    'line': {'color': 'rosybrown', 'width': 3}},\n   {'type': 'line',\n    'opacity': 0.8,\n    'x0': 0.2962962962962962,\n    'y0': -0.14814814814814814,\n    'x1': 0.20370370370370364,\n    'y1': -0.05555555555555556,\n    'line': {'color': 'rosybrown', 'width': 3}},\n   {'type': 'line',\n    'opacity': 0.8,\n    'x0': 0.3888888888888888,\n    'y0': -0.24074074074074073,\n    'x1': 0.2962962962962962,\n    'y1': -0.14814814814814814,\n    'line': {'color': 'rosybrown', 'width': 3}},\n   {'type': 'line',\n    'opacity': 0.8,\n    'x0': 0.4814814814814814,\n    'y0': -0.3333333333333333,\n    'x1': 0.3888888888888888,\n    'y1': -0.24074074074074073,\n    'line': {'color': 'rosybrown', 'width': 3}}]}}"
     },
     "execution_count": 54,
     "metadata": {},
     "output_type": "execute_result"
    }
   ],
   "source": [
    "n.pf()\n",
    "n.iplot()"
   ],
   "metadata": {
    "collapsed": false,
    "ExecuteTime": {
     "end_time": "2024-02-02T04:58:35.933648500Z",
     "start_time": "2024-02-02T04:58:35.425556700Z"
    }
   }
  },
  {
   "cell_type": "code",
   "execution_count": 83,
   "outputs": [
    {
     "name": "stderr",
     "output_type": "stream",
     "text": [
      "INFO:linopy.model: Solve linear problem using Highs solver\n"
     ]
    },
    {
     "ename": "AssertionError",
     "evalue": "Solver HiGHS not installed",
     "output_type": "error",
     "traceback": [
      "\u001B[1;31m---------------------------------------------------------------------------\u001B[0m",
      "\u001B[1;31mAssertionError\u001B[0m                            Traceback (most recent call last)",
      "\u001B[1;32m~\\AppData\\Local\\Temp\\ipykernel_19536\\1112465689.py\u001B[0m in \u001B[0;36m<module>\u001B[1;34m\u001B[0m\n\u001B[0;32m      3\u001B[0m \u001B[1;31m# n.model\u001B[0m\u001B[1;33m\u001B[0m\u001B[1;33m\u001B[0m\u001B[0m\n\u001B[0;32m      4\u001B[0m \u001B[0mn\u001B[0m\u001B[1;33m.\u001B[0m\u001B[0moptimize\u001B[0m\u001B[1;33m.\u001B[0m\u001B[0mcreate_model\u001B[0m\u001B[1;33m(\u001B[0m\u001B[1;33m)\u001B[0m\u001B[1;33m\u001B[0m\u001B[1;33m\u001B[0m\u001B[0m\n\u001B[1;32m----> 5\u001B[1;33m \u001B[0mn\u001B[0m\u001B[1;33m.\u001B[0m\u001B[0moptimize\u001B[0m\u001B[1;33m.\u001B[0m\u001B[0msolve_model\u001B[0m\u001B[1;33m(\u001B[0m\u001B[0msolver_name\u001B[0m\u001B[1;33m=\u001B[0m\u001B[1;34m'HiGHS'\u001B[0m\u001B[1;33m)\u001B[0m\u001B[1;33m\u001B[0m\u001B[1;33m\u001B[0m\u001B[0m\n\u001B[0m",
      "\u001B[1;32m~\\AppData\\Roaming\\Python\\Python39\\site-packages\\pypsa\\optimization\\optimize.py\u001B[0m in \u001B[0;36msolve_model\u001B[1;34m(self, solver_name, solver_options, **kwargs)\u001B[0m\n\u001B[0;32m    572\u001B[0m         \u001B[0mn\u001B[0m \u001B[1;33m=\u001B[0m \u001B[0mself\u001B[0m\u001B[1;33m.\u001B[0m\u001B[0m_parent\u001B[0m\u001B[1;33m\u001B[0m\u001B[1;33m\u001B[0m\u001B[0m\n\u001B[0;32m    573\u001B[0m         \u001B[0mm\u001B[0m \u001B[1;33m=\u001B[0m \u001B[0mn\u001B[0m\u001B[1;33m.\u001B[0m\u001B[0mmodel\u001B[0m\u001B[1;33m\u001B[0m\u001B[1;33m\u001B[0m\u001B[0m\n\u001B[1;32m--> 574\u001B[1;33m         \u001B[0mstatus\u001B[0m\u001B[1;33m,\u001B[0m \u001B[0mcondition\u001B[0m \u001B[1;33m=\u001B[0m \u001B[0mm\u001B[0m\u001B[1;33m.\u001B[0m\u001B[0msolve\u001B[0m\u001B[1;33m(\u001B[0m\u001B[0msolver_name\u001B[0m\u001B[1;33m=\u001B[0m\u001B[0msolver_name\u001B[0m\u001B[1;33m,\u001B[0m \u001B[1;33m**\u001B[0m\u001B[0msolver_options\u001B[0m\u001B[1;33m,\u001B[0m \u001B[1;33m**\u001B[0m\u001B[0mkwargs\u001B[0m\u001B[1;33m)\u001B[0m\u001B[1;33m\u001B[0m\u001B[1;33m\u001B[0m\u001B[0m\n\u001B[0m\u001B[0;32m    575\u001B[0m \u001B[1;33m\u001B[0m\u001B[0m\n\u001B[0;32m    576\u001B[0m         \u001B[1;32mif\u001B[0m \u001B[0mstatus\u001B[0m \u001B[1;33m==\u001B[0m \u001B[1;34m\"ok\"\u001B[0m\u001B[1;33m:\u001B[0m\u001B[1;33m\u001B[0m\u001B[1;33m\u001B[0m\u001B[0m\n",
      "\u001B[1;32m~\\AppData\\Roaming\\Python\\Python39\\site-packages\\linopy\\model.py\u001B[0m in \u001B[0;36msolve\u001B[1;34m(self, solver_name, io_api, problem_fn, solution_fn, log_fn, basis_fn, warmstart_fn, keep_files, sanitize_zeros, remote, **solver_options)\u001B[0m\n\u001B[0;32m   1013\u001B[0m \u001B[1;33m\u001B[0m\u001B[0m\n\u001B[0;32m   1014\u001B[0m         \u001B[0mlogger\u001B[0m\u001B[1;33m.\u001B[0m\u001B[0minfo\u001B[0m\u001B[1;33m(\u001B[0m\u001B[1;34mf\" Solve linear problem using {solver_name.title()} solver\"\u001B[0m\u001B[1;33m)\u001B[0m\u001B[1;33m\u001B[0m\u001B[1;33m\u001B[0m\u001B[0m\n\u001B[1;32m-> 1015\u001B[1;33m         \u001B[1;32massert\u001B[0m \u001B[0msolver_name\u001B[0m \u001B[1;32min\u001B[0m \u001B[0mavailable_solvers\u001B[0m\u001B[1;33m,\u001B[0m \u001B[1;34mf\"Solver {solver_name} not installed\"\u001B[0m\u001B[1;33m\u001B[0m\u001B[1;33m\u001B[0m\u001B[0m\n\u001B[0m\u001B[0;32m   1016\u001B[0m \u001B[1;33m\u001B[0m\u001B[0m\n\u001B[0;32m   1017\u001B[0m         \u001B[1;31m# reset result\u001B[0m\u001B[1;33m\u001B[0m\u001B[1;33m\u001B[0m\u001B[0m\n",
      "\u001B[1;31mAssertionError\u001B[0m: Solver HiGHS not installed"
     ]
    }
   ],
   "source": [
    "# import cvxpy\n",
    "import highspy\n",
    "# n.model\n",
    "n.optimize.create_model()\n",
    "n.optimize.solve_model(solver_name='HiGHS')"
   ],
   "metadata": {
    "collapsed": false,
    "ExecuteTime": {
     "end_time": "2024-02-02T05:13:38.364777500Z",
     "start_time": "2024-02-02T05:13:37.970271900Z"
    }
   }
  },
  {
   "cell_type": "markdown",
   "source": [],
   "metadata": {
    "collapsed": false
   }
  },
  {
   "cell_type": "code",
   "execution_count": 77,
   "outputs": [
    {
     "ename": "KeyError",
     "evalue": "'my gen 7'",
     "output_type": "error",
     "traceback": [
      "\u001B[1;31m---------------------------------------------------------------------------\u001B[0m",
      "\u001B[1;31mKeyError\u001B[0m                                  Traceback (most recent call last)",
      "\u001B[1;32m~\\AppData\\Local\\Temp\\ipykernel_19536\\3546550306.py\u001B[0m in \u001B[0;36m<module>\u001B[1;34m\u001B[0m\n\u001B[0;32m      1\u001B[0m \u001B[0mm\u001B[0m \u001B[1;33m=\u001B[0m \u001B[0mn\u001B[0m\u001B[1;33m.\u001B[0m\u001B[0moptimize\u001B[0m\u001B[1;33m.\u001B[0m\u001B[0mcreate_model\u001B[0m\u001B[1;33m(\u001B[0m\u001B[1;33m)\u001B[0m\u001B[1;33m\u001B[0m\u001B[1;33m\u001B[0m\u001B[0m\n\u001B[1;32m----> 2\u001B[1;33m \u001B[0mgen_p\u001B[0m \u001B[1;33m=\u001B[0m \u001B[0mm\u001B[0m\u001B[1;33m.\u001B[0m\u001B[0mvariables\u001B[0m\u001B[1;33m[\u001B[0m\u001B[1;34m\"my gen 7\"\u001B[0m\u001B[1;33m]\u001B[0m\u001B[1;33m\u001B[0m\u001B[1;33m\u001B[0m\u001B[0m\n\u001B[0m\u001B[0;32m      3\u001B[0m \u001B[1;33m\u001B[0m\u001B[0m\n\u001B[0;32m      4\u001B[0m \u001B[0mn\u001B[0m\u001B[1;33m.\u001B[0m\u001B[0moptimize\u001B[0m\u001B[1;33m.\u001B[0m\u001B[0msolve_model\u001B[0m\u001B[1;33m(\u001B[0m\u001B[1;33m)\u001B[0m\u001B[1;33m\u001B[0m\u001B[1;33m\u001B[0m\u001B[0m\n",
      "\u001B[1;32m~\\AppData\\Roaming\\Python\\Python39\\site-packages\\linopy\\variables.py\u001B[0m in \u001B[0;36m__getitem__\u001B[1;34m(self, names)\u001B[0m\n\u001B[0;32m    793\u001B[0m     ) -> Union[Variable, \"Variables\"]:\n\u001B[0;32m    794\u001B[0m         \u001B[1;32mif\u001B[0m \u001B[0misinstance\u001B[0m\u001B[1;33m(\u001B[0m\u001B[0mnames\u001B[0m\u001B[1;33m,\u001B[0m \u001B[0mstr\u001B[0m\u001B[1;33m)\u001B[0m\u001B[1;33m:\u001B[0m\u001B[1;33m\u001B[0m\u001B[1;33m\u001B[0m\u001B[0m\n\u001B[1;32m--> 795\u001B[1;33m             \u001B[1;32mreturn\u001B[0m \u001B[0mself\u001B[0m\u001B[1;33m.\u001B[0m\u001B[0mdata\u001B[0m\u001B[1;33m[\u001B[0m\u001B[0mnames\u001B[0m\u001B[1;33m]\u001B[0m\u001B[1;33m\u001B[0m\u001B[1;33m\u001B[0m\u001B[0m\n\u001B[0m\u001B[0;32m    796\u001B[0m \u001B[1;33m\u001B[0m\u001B[0m\n\u001B[0;32m    797\u001B[0m         \u001B[1;32mreturn\u001B[0m \u001B[0mself\u001B[0m\u001B[1;33m.\u001B[0m\u001B[0m__class__\u001B[0m\u001B[1;33m(\u001B[0m\u001B[1;33m{\u001B[0m\u001B[0mname\u001B[0m\u001B[1;33m:\u001B[0m \u001B[0mself\u001B[0m\u001B[1;33m.\u001B[0m\u001B[0mdata\u001B[0m\u001B[1;33m[\u001B[0m\u001B[0mname\u001B[0m\u001B[1;33m]\u001B[0m \u001B[1;32mfor\u001B[0m \u001B[0mname\u001B[0m \u001B[1;32min\u001B[0m \u001B[0mnames\u001B[0m\u001B[1;33m}\u001B[0m\u001B[1;33m,\u001B[0m \u001B[0mself\u001B[0m\u001B[1;33m.\u001B[0m\u001B[0mmodel\u001B[0m\u001B[1;33m)\u001B[0m\u001B[1;33m\u001B[0m\u001B[1;33m\u001B[0m\u001B[0m\n",
      "\u001B[1;31mKeyError\u001B[0m: 'my gen 7'"
     ]
    }
   ],
   "source": [
    "m = n.optimize.create_model()\n",
    "gen_p = m.variables[\"my gen 7\"]\n",
    "\n",
    "n.optimize.solve_model()"
   ],
   "metadata": {
    "collapsed": false,
    "ExecuteTime": {
     "end_time": "2024-02-02T05:12:41.679512700Z",
     "start_time": "2024-02-02T05:12:41.284407400Z"
    }
   }
  },
  {
   "cell_type": "code",
   "execution_count": 78,
   "outputs": [
    {
     "name": "stdout",
     "output_type": "stream",
     "text": [
      "Bus\n",
      "0         NaN\n",
      "1         NaN\n",
      "2         NaN\n",
      "3         NaN\n",
      "4         NaN\n",
      "5         NaN\n",
      "6         NaN\n",
      "7    my gen 7\n",
      "8         NaN\n",
      "9         NaN\n",
      "Name: generator, dtype: object\n"
     ]
    }
   ],
   "source": [
    "print(n.buses.generator)"
   ],
   "metadata": {
    "collapsed": false,
    "ExecuteTime": {
     "end_time": "2024-02-02T05:12:42.827151100Z",
     "start_time": "2024-02-02T05:12:42.815093100Z"
    }
   }
  },
  {
   "cell_type": "code",
   "execution_count": 75,
   "outputs": [],
   "source": [
    "import numpy as np\n",
    "x = np.roll([1,2,3], 2)"
   ],
   "metadata": {
    "collapsed": false,
    "ExecuteTime": {
     "end_time": "2024-02-02T05:12:38.635604600Z",
     "start_time": "2024-02-02T05:12:38.619939500Z"
    }
   }
  },
  {
   "cell_type": "code",
   "execution_count": 76,
   "outputs": [
    {
     "data": {
      "text/plain": "'1.23.1'"
     },
     "execution_count": 76,
     "metadata": {},
     "output_type": "execute_result"
    }
   ],
   "source": [
    "np.version.version"
   ],
   "metadata": {
    "collapsed": false,
    "ExecuteTime": {
     "end_time": "2024-02-02T05:12:38.865948300Z",
     "start_time": "2024-02-02T05:12:38.819436200Z"
    }
   }
  },
  {
   "cell_type": "code",
   "execution_count": null,
   "outputs": [],
   "source": [],
   "metadata": {
    "collapsed": false
   }
  }
 ],
 "metadata": {
  "kernelspec": {
   "display_name": "Python 3",
   "language": "python",
   "name": "python3"
  },
  "language_info": {
   "codemirror_mode": {
    "name": "ipython",
    "version": 2
   },
   "file_extension": ".py",
   "mimetype": "text/x-python",
   "name": "python",
   "nbconvert_exporter": "python",
   "pygments_lexer": "ipython2",
   "version": "2.7.6"
  }
 },
 "nbformat": 4,
 "nbformat_minor": 0
}
