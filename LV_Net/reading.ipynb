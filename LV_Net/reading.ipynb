{
 "cells": [
  {
   "cell_type": "code",
   "execution_count": 1,
   "metadata": {
    "collapsed": true,
    "ExecuteTime": {
     "end_time": "2024-01-24T03:11:56.172325700Z",
     "start_time": "2024-01-24T03:11:53.535107100Z"
    }
   },
   "outputs": [
    {
     "name": "stderr",
     "output_type": "stream",
     "text": [
      "C:\\ProgramData\\Anaconda3\\lib\\site-packages\\paramiko\\transport.py:219: CryptographyDeprecationWarning: Blowfish has been deprecated\n",
      "  \"class\": algorithms.Blowfish,\n",
      "C:\\Users\\u6352049\\AppData\\Roaming\\Python\\Python39\\site-packages\\pypsa\\networkclustering.py:16: UserWarning:\n",
      "\n",
      "The namespace `pypsa.networkclustering` is deprecated and will be removed in PyPSA v0.24. Please use `pypsa.clustering.spatial instead`. \n",
      "\n"
     ]
    }
   ],
   "source": [
    "import json\n",
    "import pypsa\n"
   ]
  },
  {
   "cell_type": "code",
   "execution_count": 19,
   "outputs": [],
   "source": [
    "json_Path = 'C:/Users/u6352049/Downloads/'\n",
    "file = 'W_LV_network.json'\n",
    "f = open(json_Path + file)\n",
    "data = json.load(f)\n"
   ],
   "metadata": {
    "collapsed": false,
    "ExecuteTime": {
     "end_time": "2024-01-24T03:32:05.196848900Z",
     "start_time": "2024-01-24T03:32:05.171640200Z"
    }
   }
  },
  {
   "cell_type": "code",
   "execution_count": 21,
   "outputs": [
    {
     "name": "stdout",
     "output_type": "stream",
     "text": [
      "['1', '6617', '6629', '6643', '6647', '6648', '6655', '6657', '6665', '6699', '6700', '6706', '6709', '6745', '6746', '6757', '6758', '6765', '6777', '6810', '6851', '6853', '6858', '6892', '6954', '6976', '6986', '7010', '7013', '7016', '7017', '7019', '7023', '7025', '7026', '7033', '7035', '7054', '7056', '7092', '7100', '7109', '7117', '7138', '7139', '7145', '7160', '7167', '7174', '7179', '7180', '7202', '7208', '7209', '7212', '7213', '7224', '7225', '7255', '7266', '7273', '7300', '7304', '7311', '7315', '7318', '7356', '7363', '7369', '7375', '7389', '7392', '7393', '7394', '7408', '7411', '7412', '7413', '7414', '7416', '7417', '7420', '7428', '7438', '7439', '7443', '7450', '7455', '7456', '7471', '7489', '7490', '7491', '7495', '7500', '7502', '7507', '7509', '7523', '7526', '7530', '7532', '7540', '7562', '7589', '7637', '7651', '7652', '7653', '7659', '7660', '7714', '7731', '7768', '7787', '7814', '7841', '7842', '7851', '7856', '7860', '7870', '7871', '7877', '7879', '7901', '7958', '7997', '8027', '8047', '8109', '8118', '8121', '8152', '8176', '8179', '8180', '8192', '8201', '8208', '8214', '8215', '8225', '8235', '8238', '8239', '8257', '8289', '8291', '8297', '8298', '8300', '8305', '8311', '8314', '8320', '8321', '8322', '8323', '8324', '8325', '8328', '8331', '8334', '8335', '8348', '8359', '8360', '8362', '8364', '8370', '8371', '8372', '8373', '8374', '8377', '8378', '8380', '8381', '8382', '8383', '8384', '8389', '8390', '8392', '8395', '8422', '8435', '8440', '8441', '8471', '8473', '8474', '8477', '8481', '8493', '8536', '8542', '8544', '8565', '8591', '8667', '8670', '8673', '8674', '8755', '8794', '8799', '8824', '8825', '8827', '8830', '8843', '8873', '8875', '8892_8843', '8895', '8909', '8928', '8956', '9009', '9016', '9018', 'Vsource.source', 'cable2079803_6746_6647', 'cable2130159_7255_8474', 'cable2130173_7841_7456', 'cable2130174tocable3258947_7109_7443', 'cable2130175_7443_9008', 'cable2130176_7526_7117', 'cable2130177_7507_8289', 'cable2130178_7438_7523', 'cable2130179_7523_7500', 'cable2130310_7500_7489', 'cable2130313_7491_7532', 'cable2130314_7530_7174', 'cable2130315_6647_8239', 'cable2130316_6655_6746', 'cable2130317_7016_6629', 'cable2130318_8364_6617', 'cable2130319_6709_7179', 'cable2130322_8895_7179', 'cable2130323_7860_6657', 'cable2130325tocable3836067_7739_7180', 'cable2231093_8311_7255', 'cable2231094_8909_7255', 'cable2231095tocable3837067_8381_8289', 'cable2231096_8289_7100', 'cable2231097tocable3836061_8670_7523', 'cable2336867_8395_8392', 'cable2338552_8440_7224', 'cable2338582tocable3390937_7389_8493', 'cable2338584tocable3836512_8328_7300', 'cable2338585_7300_7428', 'cable2338586_8843_6746', 'cable2671701_8201_7443', 'cable2972593_9009_7389', 'cable322059_8390_8389', 'cable322157_7224_7389', 'cable3231804tocable3836478_7025_8471', 'cable3231805_7456_8471', 'cable3231806tocable3836096_8215_8311', 'cable3231807tocable3836095_7901_8311', 'cable3231808tocable3836097_7495_8909', 'cable3231809_8928_8909', 'cable3232070tocable3836098_7455_8928', 'cable3232071tocable3836091_7416_8852', 'cable3232072_8886_7540', 'cable3232073tocable3836370_7363_8542', 'cable3232074tocable3836371_6851_7532', 'cable3232075tocable3836374_7054_7174', 'cable3232076_8238_8239', 'cable3232077_8239_7530', 'cable3232078tocable3836376_8667_8238', 'cable3232079_8257_8843', 'cable3232240tocable4340639_7019_6655', 'cable3232241_7167_7562', 'cable3232242tocable3282181_7637_8473', 'cable3232243tocable3836624_8362_7651', 'cable323331_7842_6706', 'cable3233371tocable4546695_7033_7202', 'cable3233372_7202_6709', 'cable3233374_7208_8364', 'cable3233376tocable3836264_6892_7860', 'cable3233378tocable3259466_6665_8895', 'cable324495_7540_8014', 'cable3258945tocable3836069_7413_6758', 'cable3258948_8471_7109', 'cable3259460tocable3259464_7428_7304', 'cable3259461_7439_7300', 'cable3259462_7266_7439', 'cable3259463tocable3836511_9016_7428', 'cable3281323_8118_7208', 'cable3281324_8794_7208', 'cable3281326_6853_8257', 'cable3281327_7879_8257', 'cable3281328_7092_6648', 'cable3282180_7138_8473', 'cable3282186tocable3837060_8378_7491', 'cable3282189_7489_9001', 'cable333560_8389_8827', 'cable333672_8493_8441', 'cable334800tocable3836704_7013_8389', 'cable334815_8544_8542', 'cable334821tocable3836143_7100_7526', 'cable335036tocable4546696_7315_8389', 'cable335264_7450_8493', 'cable335654_8542_7491', 'cable335835tocable3258946_7659_7507', 'cable335995_6629_8542', 'cable338309tocable3836265_8674_7842', 'cable350177tocable3282185_6745_7179', 'cable3776999_8799_8390', 'cable3777756_7356_7417', 'cable3777929tocable3778620_8323_8390', 'cable3778621_6700_6986', 'cable3778622tocable3836823_8377_6699', 'cable3778623_8392_7417', 'cable3778624_7417_6699', 'cable3778626_6648_6700', 'cable3778627_7562_7651', 'cable3778628_7651_6648', 'cable3778629_8473_7562', 'cable3778650_8884_8390', 'cable3778651_6757_8373', 'cable3835429_7056_7180', 'cable3836010_7180_6758', 'cable3836011_8873_7456', 'cable3836012_8422_8471', 'cable3836013_8359_7109', 'cable3836016tocable3836015_8047_7526', 'cable3836017tocable3836060_7213_7438', 'cable3836018_8890_7438', 'cable3836062_8300_7500', 'cable3836063tocable3836064_8673_7489', 'cable3836065_8360_7438', 'cable3836066_7490_7180', 'cable3836099_7393_8311', 'cable3836140_7870_8928', 'cable3836141_9018_7526', 'cable3836142_7026_7100', 'cable3836144_7117_8201', 'cable3836145_7408_7117', 'cable3836146tocable3836014_7160_7117', 'cable3836147tocable4233479_8291_8201', 'cable3836148_7145_7236', 'cable3836149_6643_7145', 'cable3836150_7375_7145', 'cable3836152tocable3836151_7589_8441', 'cable3836154_7502_8441', 'cable3836155_7225_8474', 'cable3836156_8474_8493', 'cable3836157_7209_8481', 'cable3836158_8481_8441', 'cable3836159_7997_8481', 'cable3836220_7412_7450', 'cable3836237_7411_6706', 'cable3836238_6706_7860', 'cable3836239_8314_7842', 'cable3836260_8825_7842', 'cable3836261_7877_7860', 'cable3836262_7023_6657', 'cable3836263_6858_7860', 'cable3836266_7660_7167', 'cable3836267_8477_6665', 'cable3836268_8225_6665', 'cable3836269_8320_6709', 'cable3836300_8321_7010', 'cable3836301_7010_7202', 'cable3836302_8214_8364', 'cable3836303_8179_7208', 'cable3836304_7392_7010', 'cable3836305_8180_7016', 'cable3836306_6617_7016', 'cable3836307tocable3836308_8322_6629', 'cable3836309_8383_7540', 'cable3836372_7814_7174', 'cable3836377_8956_8238', 'cable3836378_7139_8298', 'cable3836379_8591_8298', 'cable3836450_8875_8305', 'cable3836472tocable3836471_8152_7389', 'cable3836474_7871_8192', 'cable3836475_7212_8192', 'cable3836476_8192_7224', 'cable3836477_8235_8192', 'cable3836479_7731_7507', 'cable3836510_6976_7439', 'cable3836513_8331_7428', 'cable3836514_8334_7428', 'cable3836515_8335_7428', 'cable3836516_8324_7300', 'cable3836517_8305_7841', 'cable3836518_7304_7841', 'cable3836519_8382_7389', 'cable3836620_8121_7224', 'cable3836621_7856_7224', 'cable3836622_8536_8473', 'cable3836623_8325_7562', 'cable3836625_6777_7167', 'cable3836626_7471_8824', 'cable3836627_8824_8827', 'cable3836628_8827_6655', 'cable3836629_8565_8824', 'cable3836700_8374_8799', 'cable3836702_8027_8389', 'cable3836703_8348_8827', 'cable3836705_6954_8390', 'cable3836706_7652_7304', 'cable3836707_8830_6757', 'cable3836708_7035_8373', 'cable3836709_8373_6700', 'cable3836811_7414_8373', 'cable3836812_7509_6757', 'cable3836813_7017_6700', 'cable3836814_8109_6700', 'cable3836815_8384_6986', 'cable3836816_6986_7774', 'cable3836817_8755_6986', 'cable3836820_7714_8395', 'cable3836821_8176_8395', 'cable3836822_7394_8392', 'cable3836824_8208_8799', 'cable3836825_8297_6647', 'cable3836826_8435_8239', 'cable3836827_7653_8239', 'cable3836828_7369_7530', 'cable3836829_7768_7532', 'cable3837061_8380_6629', 'cable3837063_8370_8544', 'cable3837064_8371_7016', 'cable3837065_8372_6617', 'cable3837066_7311_8305', 'cable3837370_8298_7304', 'cable4316667_7532_7174', 'cable4340634_7787_8544', 'cable4340637_6765_8440', 'cable4340640_7273_8895', 'cable4376121tocable4546698_7318_7450', 'cable4546694_7851_6709', 'load_1', 'load_10', 'load_100', 'load_101', 'load_102', 'load_103', 'load_104', 'load_105', 'load_106', 'load_107', 'load_108', 'load_109', 'load_11', 'load_110', 'load_111', 'load_112', 'load_113', 'load_114', 'load_115', 'load_116', 'load_117', 'load_118', 'load_119', 'load_12', 'load_120', 'load_121', 'load_122', 'load_123', 'load_124', 'load_125', 'load_126', 'load_127', 'load_128', 'load_129', 'load_13', 'load_130', 'load_131', 'load_132', 'load_133', 'load_134', 'load_135', 'load_136', 'load_14', 'load_15', 'load_16', 'load_17', 'load_18', 'load_19', 'load_2', 'load_20', 'load_21', 'load_22', 'load_23', 'load_24', 'load_25', 'load_26', 'load_27', 'load_28', 'load_29', 'load_3', 'load_30', 'load_31', 'load_32', 'load_33', 'load_34', 'load_35', 'load_36', 'load_37', 'load_38', 'load_39', 'load_4', 'load_40', 'load_41', 'load_42', 'load_43', 'load_44', 'load_45', 'load_46', 'load_47', 'load_48', 'load_49', 'load_5', 'load_50', 'load_51', 'load_52', 'load_53', 'load_54', 'load_55', 'load_56', 'load_57', 'load_58', 'load_59', 'load_6', 'load_60', 'load_61', 'load_62', 'load_63', 'load_64', 'load_65', 'load_66', 'load_67', 'load_68', 'load_69', 'load_7', 'load_70', 'load_71', 'load_72', 'load_73', 'load_74', 'load_75', 'load_76', 'load_77', 'load_78', 'load_79', 'load_8', 'load_80', 'load_81', 'load_82', 'load_83', 'load_84', 'load_85', 'load_86', 'load_87', 'load_88', 'load_89', 'load_9', 'load_90', 'load_91', 'load_92', 'load_93', 'load_94', 'load_95', 'load_96', 'load_97', 'load_98', 'load_99', 'simulated42275017_121333_8882_8364', 'simulated42275079_121336_8893_8473', 'simulated84065561_133534_7179_7958', 'sourcebus_22000']\n",
      "dict_keys(['cons', 'v_setpoint', 'user_data'])\n"
     ]
    }
   ],
   "source": [
    "print(sorted(data['components'].keys()))\n",
    "print(data['components']['Vsource.source']['Infeeder'].keys())"
   ],
   "metadata": {
    "collapsed": false,
    "ExecuteTime": {
     "end_time": "2024-01-24T03:32:14.991326400Z",
     "start_time": "2024-01-24T03:32:14.984213200Z"
    }
   }
  },
  {
   "cell_type": "code",
   "execution_count": 28,
   "outputs": [
    {
     "name": "stdout",
     "output_type": "stream",
     "text": [
      "tocable \n",
      " {'Line': {'length': 224.332, 'cons': [{'node': '7180', 'phs': ['A', 'B', 'C']}, {'node': '7420', 'phs': ['A', 'B', 'C']}], 'i_max': 960.0, 'z': [6.666666666666667e-05, 0.00010000000000000002], 'z0': [0.0, 0.0], 'user_data': {'line_type': None, 'orig_ids': ['cable3836068_7420_7739', 'cable2130325tocable3836067_7739_7180']}}}\n",
      "cable \n",
      " {'Line': {'length': 34.388, 'cons': [{'node': '8440', 'phs': ['A', 'B', 'C']}, {'node': '6765', 'phs': ['A', 'B', 'C']}], 'i_max': 960.0, 'z': [6.666666666666667e-05, 0.00010000000000000002], 'z0': [0.0, 0.0], 'user_data': {'line_type': None, 'orig_ids': ['cable4340637_6765_8440']}}}\n",
      "Simulated \n",
      " {'Line': {'length': 59.358, 'cons': [{'node': '8473', 'phs': ['A', 'B', 'C']}, {'node': '8799', 'phs': ['A', 'B', 'C']}], 'i_max': 960.0, 'z': [6.666666666666667e-05, 0.00010000000000000002], 'z0': [0.0, 0.0], 'user_data': {'line_type': None, 'orig_ids': ['cable3836701_8893_8799', 'simulated42275079_121336_8893_8473']}}}\n",
      "Source bus \n",
      " {'Node': {'phs': ['A', 'B', 'C'], 'v_base': 22000.0, 'xy': None}}\n"
     ]
    }
   ],
   "source": [
    "print('tocable \\n', data['components']['cable2130325tocable3836067_7739_7180'])\n",
    "print('cable \\n', data['components']['cable4340637_6765_8440'])\n",
    "\n",
    "print('Simulated \\n',data['components']['simulated42275079_121336_8893_8473'])\n",
    "print('Source bus \\n',data['components']['sourcebus_22000'])"
   ],
   "metadata": {
    "collapsed": false,
    "ExecuteTime": {
     "end_time": "2024-01-24T03:45:40.049370300Z",
     "start_time": "2024-01-24T03:45:40.022942900Z"
    }
   }
  },
  {
   "cell_type": "code",
   "execution_count": 33,
   "outputs": [
    {
     "name": "stdout",
     "output_type": "stream",
     "text": [
      "sourcebus_22000\n"
     ]
    }
   ],
   "source": [
    "for i in data['components'].keys():\n",
    "    try:\n",
    "        x = data['components'][i]['Transformer']\n",
    "        print(x['cons'][0]['node'])\n",
    "    except:\n",
    "        pass"
   ],
   "metadata": {
    "collapsed": false,
    "ExecuteTime": {
     "end_time": "2024-01-24T04:01:03.711239Z",
     "start_time": "2024-01-24T04:01:03.694793200Z"
    }
   }
  },
  {
   "cell_type": "code",
   "execution_count": 42,
   "outputs": [
    {
     "name": "stdout",
     "output_type": "stream",
     "text": [
      "True\n"
     ]
    }
   ],
   "source": [
    "print('Line' in data['components'][i].keys())"
   ],
   "metadata": {
    "collapsed": false,
    "ExecuteTime": {
     "end_time": "2024-01-24T05:26:33.511820700Z",
     "start_time": "2024-01-24T05:26:33.501592100Z"
    }
   }
  },
  {
   "cell_type": "code",
   "execution_count": 13,
   "outputs": [
    {
     "name": "stdout",
     "output_type": "stream",
     "text": [
      "['089', '46', '48', '57', '60', '63', '64', 'Vsource.source', 'line0', 'line11', 'line12', 'line3', 'line4', 'line8', 'load_load1', 'load_load10', 'load_load11', 'load_load12', 'load_load13', 'load_load14', 'load_load15', 'load_load16', 'load_load17', 'load_load18', 'load_load19', 'load_load2', 'load_load20', 'load_load21', 'load_load22', 'load_load23', 'load_load24', 'load_load25', 'load_load26', 'load_load27', 'load_load28', 'load_load29', 'load_load3', 'load_load30', 'load_load31', 'load_load32', 'load_load33', 'load_load34', 'load_load35', 'load_load36', 'load_load37', 'load_load38', 'load_load39', 'load_load4', 'load_load40', 'load_load41', 'load_load42', 'load_load43', 'load_load44', 'load_load45', 'load_load46', 'load_load47', 'load_load48', 'load_load49', 'load_load5', 'load_load50', 'load_load51', 'load_load52', 'load_load53', 'load_load54', 'load_load55', 'load_load56', 'load_load57', 'load_load58', 'load_load59', 'load_load6', 'load_load60', 'load_load61', 'load_load62', 'load_load63', 'load_load64', 'load_load65', 'load_load66', 'load_load67', 'load_load68', 'load_load69', 'load_load7', 'load_load70', 'load_load71', 'load_load72', 'load_load73', 'load_load74', 'load_load75', 'load_load76', 'load_load77', 'load_load78', 'load_load79', 'load_load8', 'load_load80', 'load_load81', 'load_load82', 'load_load83', 'load_load84', 'load_load85', 'load_load86', 'load_load87', 'load_load9']\n",
      "dict_keys(['Infeeder'])\n"
     ]
    }
   ],
   "source": [
    "json_Path = 'C:/Users/u6352049/Downloads/'\n",
    "file = 'D_LV_network.json'\n",
    "f = open(json_Path + file)\n",
    "data = json.load(f)\n",
    "print(sorted(data['components'].keys()))\n",
    "print(data['components']['Vsource.source'].keys())"
   ],
   "metadata": {
    "collapsed": false,
    "ExecuteTime": {
     "end_time": "2024-01-24T03:26:44.140182300Z",
     "start_time": "2024-01-24T03:26:44.097886300Z"
    }
   }
  },
  {
   "cell_type": "code",
   "execution_count": 17,
   "outputs": [
    {
     "name": "stdout",
     "output_type": "stream",
     "text": [
      "dict_keys(['3104154', '3115553', 'load_1', 'Vsource.source', 'line_75625428_3115553_3108995'])\n",
      "dict_keys(['Infeeder'])\n",
      "{'cons': [{'node': '3104154', 'phs': ['A', 'B', 'C']}], 'v_setpoint': 400.0, 'user_data': {'v_min_pu': None, 'v_max_pu': None, 'power_factor': 1.0, 'is_slack': True}}\n"
     ]
    }
   ],
   "source": [
    "\n",
    "json_Path = 'C:/Users/u6352049/Downloads/'\n",
    "file = 'S_LV_network.json'\n",
    "f = open(json_Path + file)\n",
    "data = json.load(f)\n",
    "print(data['components'].keys())\n",
    "print(data['components']['Vsource.source'].keys())\n",
    "print(data['components']['Vsource.source']['Infeeder'])"
   ],
   "metadata": {
    "collapsed": false,
    "ExecuteTime": {
     "end_time": "2024-01-24T03:28:09.578577500Z",
     "start_time": "2024-01-24T03:28:09.541611900Z"
    }
   }
  },
  {
   "cell_type": "code",
   "execution_count": 18,
   "outputs": [
    {
     "name": "stdout",
     "output_type": "stream",
     "text": [
      "3104154\n",
      "3115553\n",
      "Vsource.source\n",
      "line_75625428_3115553_3108995\n",
      "load_1\n"
     ]
    }
   ],
   "source": [
    "for i in sorted(data['components'].keys()):\n",
    "    print(i)"
   ],
   "metadata": {
    "collapsed": false,
    "ExecuteTime": {
     "end_time": "2024-01-24T03:29:44.464582700Z",
     "start_time": "2024-01-24T03:29:44.448923500Z"
    }
   }
  },
  {
   "cell_type": "code",
   "execution_count": null,
   "outputs": [],
   "source": [],
   "metadata": {
    "collapsed": false
   }
  }
 ],
 "metadata": {
  "kernelspec": {
   "display_name": "Python 3",
   "language": "python",
   "name": "python3"
  },
  "language_info": {
   "codemirror_mode": {
    "name": "ipython",
    "version": 2
   },
   "file_extension": ".py",
   "mimetype": "text/x-python",
   "name": "python",
   "nbconvert_exporter": "python",
   "pygments_lexer": "ipython2",
   "version": "2.7.6"
  }
 },
 "nbformat": 4,
 "nbformat_minor": 0
}
