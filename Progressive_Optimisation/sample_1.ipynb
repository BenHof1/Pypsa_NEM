{
 "cells": [
  {
   "cell_type": "code",
   "execution_count": 122,
   "metadata": {
    "collapsed": true,
    "ExecuteTime": {
     "end_time": "2024-02-06T06:45:21.809570500Z",
     "start_time": "2024-02-06T06:45:21.793281100Z"
    }
   },
   "outputs": [],
   "source": [
    "import pypsa as psa\n",
    "import networkx as nx\n",
    "import numpy as np\n",
    "import pandas as pd"
   ]
  },
  {
   "cell_type": "code",
   "execution_count": 123,
   "outputs": [],
   "source": [
    "def create_net():\n",
    "    buses = [\"Bus {}\".format(i) for i in range(10)]\n",
    "    snapshots = range(7)\n",
    "    n = psa.Network()\n",
    "    n.set_snapshots(snapshots)\n",
    "    n.madd(\"Bus\", buses)\n",
    "\n",
    "    # add load as numpy array\n",
    "    n.madd(\"Load\",\n",
    "           n.buses.index[:5] + \" load\",\n",
    "           bus=buses[:5],\n",
    "           p_set=[1,1,1,1,1])\n",
    "\n",
    "    #use a suffix to avoid boilerplate to rename everything\n",
    "    gen = ['Bus 7', 'Bus 8']\n",
    "    for i in gen:\n",
    "        n.add(\"Generator\",\n",
    "               name='my gen {}'.format(int(i[-1])),\n",
    "               bus=i,\n",
    "               p_nom_extendable=True,\n",
    "               marginal_cost=float(int(i[-1]))/5)\n",
    "\n",
    "    n.madd(\"Line\", n.buses.index + ' lines',\n",
    "           bus0=buses,\n",
    "           bus1=np.roll(buses,1),\n",
    "           r=0.01, x=0.01)\n",
    "    return n"
   ],
   "metadata": {
    "collapsed": false,
    "ExecuteTime": {
     "end_time": "2024-02-06T06:45:22.002019300Z",
     "start_time": "2024-02-06T06:45:21.985133200Z"
    }
   }
  },
  {
   "cell_type": "code",
   "execution_count": 124,
   "outputs": [],
   "source": [
    "demand = pd.read_csv('demand.csv')\n",
    "# demand.set_index('datetime', inplace=True)"
   ],
   "metadata": {
    "collapsed": false,
    "ExecuteTime": {
     "end_time": "2024-02-06T06:45:22.158481700Z",
     "start_time": "2024-02-06T06:45:22.143765100Z"
    }
   }
  },
  {
   "cell_type": "code",
   "execution_count": 125,
   "outputs": [
    {
     "name": "stdout",
     "output_type": "stream",
     "text": [
      "DatetimeIndex(['2025-01-01 00:00:00', '2025-01-01 01:00:00',\n",
      "               '2025-01-01 02:00:00', '2025-01-01 03:00:00',\n",
      "               '2025-01-01 04:00:00', '2025-01-01 05:00:00',\n",
      "               '2025-01-01 06:00:00', '2025-01-01 07:00:00',\n",
      "               '2025-01-01 08:00:00', '2025-01-01 09:00:00',\n",
      "               '2025-01-01 10:00:00', '2025-01-01 11:00:00',\n",
      "               '2025-01-01 12:00:00', '2025-01-01 13:00:00',\n",
      "               '2025-01-01 14:00:00', '2025-01-01 15:00:00',\n",
      "               '2025-01-01 16:00:00', '2025-01-01 17:00:00',\n",
      "               '2025-01-01 18:00:00', '2025-01-01 19:00:00',\n",
      "               '2025-01-01 20:00:00', '2025-01-01 21:00:00',\n",
      "               '2025-01-01 22:00:00', '2025-01-01 23:00:00'],\n",
      "              dtype='datetime64[ns]', freq='H')\n"
     ]
    }
   ],
   "source": [
    "n = create_net()\n",
    "snapshots = pd.DatetimeIndex([])\n",
    "for i in demand.datetime.to_list():\n",
    "    period = pd.date_range(\n",
    "            start=i,\n",
    "            freq=\"{}H\".format(1),\n",
    "            periods=1)\n",
    "    snapshots = snapshots.append(period)\n",
    "print(snapshots)\n",
    "# n.snapshots = pd.MultiIndex.from_arrays([snapshots.year, snapshots])\n",
    "n.snapshots = snapshots\n",
    "    # convert to multiindex and assign to network\n"
   ],
   "metadata": {
    "collapsed": false,
    "ExecuteTime": {
     "end_time": "2024-02-06T06:45:22.560376100Z",
     "start_time": "2024-02-06T06:45:22.291521300Z"
    }
   }
  },
  {
   "cell_type": "code",
   "execution_count": 126,
   "outputs": [
    {
     "name": "stdout",
     "output_type": "stream",
     "text": [
      "Index(['Bus 0 load', 'Bus 1 load', 'Bus 2 load', 'Bus 3 load', 'Bus 4 load'], dtype='object', name='Load')\n",
      "Index(['my gen 7', 'my gen 8'], dtype='object', name='Generator')\n"
     ]
    }
   ],
   "source": [
    "print(n.loads.index)\n",
    "print(n.generators.index)"
   ],
   "metadata": {
    "collapsed": false,
    "ExecuteTime": {
     "end_time": "2024-02-06T06:45:22.637222Z",
     "start_time": "2024-02-06T06:45:22.544479800Z"
    }
   }
  },
  {
   "cell_type": "code",
   "execution_count": 127,
   "outputs": [],
   "source": [
    "# for i in n.loads.index.to_list():\n",
    "temp_col = np.array(demand.type_A.to_list(), dtype=np.float16)\n",
    "# n.add(\"Load\", \"Added\", bus =\"Bus 9\",p_set=temp_col)\n",
    "\n",
    "# n.loads.loc[i,'p_set'] = np.array(demand.type_A.to_list(), dtype=np.float16)"
   ],
   "metadata": {
    "collapsed": false,
    "ExecuteTime": {
     "end_time": "2024-02-06T06:45:22.727392200Z",
     "start_time": "2024-02-06T06:45:22.706583300Z"
    }
   }
  },
  {
   "cell_type": "code",
   "execution_count": 128,
   "outputs": [],
   "source": [
    "# count = 0\n",
    "# ind = demand.columns[1:]\n",
    "# print(ind)\n",
    "# for i in n.loads.index.to_list():\n",
    "#     temp_col = np.array(demand[ind[count]].to_list(), dtype=np.float16)\n",
    "#     n.loads_t.p_set.loc[i] =temp_col\n",
    "#     count+=1\n",
    "#     if count>len(ind):\n",
    "#         count =0"
   ],
   "metadata": {
    "collapsed": false,
    "ExecuteTime": {
     "end_time": "2024-02-06T06:45:23.262173800Z",
     "start_time": "2024-02-06T06:45:23.220803100Z"
    }
   }
  },
  {
   "cell_type": "code",
   "execution_count": 134,
   "outputs": [
    {
     "name": "stderr",
     "output_type": "stream",
     "text": [
      "INFO:pypsa.pf:Performing non-linear load-flow on AC sub-network SubNetwork 0 for snapshots DatetimeIndex(['2025-01-01 00:00:00', '2025-01-01 01:00:00',\n",
      "               '2025-01-01 02:00:00', '2025-01-01 03:00:00',\n",
      "               '2025-01-01 04:00:00', '2025-01-01 05:00:00',\n",
      "               '2025-01-01 06:00:00', '2025-01-01 07:00:00',\n",
      "               '2025-01-01 08:00:00', '2025-01-01 09:00:00',\n",
      "               '2025-01-01 10:00:00', '2025-01-01 11:00:00',\n",
      "               '2025-01-01 12:00:00', '2025-01-01 13:00:00',\n",
      "               '2025-01-01 14:00:00', '2025-01-01 15:00:00',\n",
      "               '2025-01-01 16:00:00', '2025-01-01 17:00:00',\n",
      "               '2025-01-01 18:00:00', '2025-01-01 19:00:00',\n",
      "               '2025-01-01 20:00:00', '2025-01-01 21:00:00',\n",
      "               '2025-01-01 22:00:00', '2025-01-01 23:00:00'],\n",
      "              dtype='datetime64[ns]', name='snapshot', freq='H')\n",
      "INFO:pypsa.pf:Newton-Raphson solved in 3 iterations with error of 0.000000 in 0.016397 seconds\n",
      "INFO:pypsa.pf:Newton-Raphson solved in 3 iterations with error of 0.000000 in 0.034676 seconds\n",
      "INFO:pypsa.pf:Newton-Raphson solved in 3 iterations with error of 0.000000 in 0.005961 seconds\n"
     ]
    },
    {
     "name": "stdout",
     "output_type": "stream",
     "text": [
      "Index(['type_A', 'type_B', 'type_C', 'type_D', 'type_E', 'type_F', 'type_G',\n",
      "       'type_H', 'type_I', 'type_J', 'type_K'],\n",
      "      dtype='object')\n"
     ]
    },
    {
     "name": "stderr",
     "output_type": "stream",
     "text": [
      "INFO:pypsa.pf:Newton-Raphson solved in 3 iterations with error of 0.000000 in 0.031302 seconds\n",
      "INFO:pypsa.pf:Newton-Raphson solved in 3 iterations with error of 0.000000 in 0.025888 seconds\n",
      "INFO:pypsa.pf:Newton-Raphson solved in 3 iterations with error of 0.000000 in 0.016894 seconds\n",
      "INFO:pypsa.pf:Newton-Raphson solved in 3 iterations with error of 0.000000 in 0.025829 seconds\n",
      "INFO:pypsa.pf:Newton-Raphson solved in 3 iterations with error of 0.000000 in 0.015671 seconds\n",
      "INFO:pypsa.pf:Newton-Raphson solved in 3 iterations with error of 0.000000 in 0.025179 seconds\n",
      "INFO:pypsa.pf:Newton-Raphson solved in 3 iterations with error of 0.000001 in 0.015677 seconds\n",
      "INFO:pypsa.pf:Newton-Raphson solved in 3 iterations with error of 0.000000 in 0.031249 seconds\n",
      "INFO:pypsa.pf:Newton-Raphson solved in 3 iterations with error of 0.000000 in 0.025708 seconds\n",
      "INFO:pypsa.pf:Newton-Raphson solved in 3 iterations with error of 0.000000 in 0.015659 seconds\n",
      "INFO:pypsa.pf:Newton-Raphson solved in 3 iterations with error of 0.000000 in 0.025755 seconds\n",
      "INFO:pypsa.pf:Newton-Raphson solved in 3 iterations with error of 0.000000 in 0.031265 seconds\n",
      "INFO:pypsa.pf:Newton-Raphson solved in 3 iterations with error of 0.000000 in 0.026948 seconds\n",
      "INFO:pypsa.pf:Newton-Raphson solved in 3 iterations with error of 0.000000 in 0.037947 seconds\n",
      "INFO:pypsa.pf:Newton-Raphson solved in 3 iterations with error of 0.000000 in 0.030722 seconds\n",
      "INFO:pypsa.pf:Newton-Raphson solved in 3 iterations with error of 0.000000 in 0.025995 seconds\n",
      "INFO:pypsa.pf:Newton-Raphson solved in 3 iterations with error of 0.000000 in 0.017224 seconds\n",
      "INFO:pypsa.pf:Newton-Raphson solved in 3 iterations with error of 0.000000 in 0.031915 seconds\n",
      "INFO:pypsa.pf:Newton-Raphson solved in 3 iterations with error of 0.000000 in 0.015671 seconds\n",
      "INFO:pypsa.pf:Newton-Raphson solved in 3 iterations with error of 0.000000 in 0.025773 seconds\n",
      "INFO:pypsa.pf:Newton-Raphson solved in 3 iterations with error of 0.000000 in 0.026739 seconds\n"
     ]
    },
    {
     "name": "stdout",
     "output_type": "stream",
     "text": [
      "Load                 Bus 0 load  Bus 1 load  Bus 2 load  Bus 3 load  \\\n",
      "snapshot                                                              \n",
      "2025-01-01 00:00:00         0.0    0.455078    0.596680    0.985840   \n",
      "2025-01-01 01:00:00         1.0    0.544922    0.045288    0.980957   \n",
      "2025-01-01 02:00:00         1.0    0.936523    0.166016    0.475586   \n",
      "2025-01-01 03:00:00         0.0    0.388184    0.519043    0.393066   \n",
      "2025-01-01 04:00:00         0.0    0.448975    0.545898    0.925293   \n",
      "2025-01-01 05:00:00         0.0    0.079956    0.700684    0.550781   \n",
      "2025-01-01 06:00:00         1.0    0.625000    0.619629    0.151001   \n",
      "2025-01-01 07:00:00         0.0    0.573730    0.713379    0.352539   \n",
      "2025-01-01 08:00:00         1.0    0.329346    0.275635    0.715820   \n",
      "2025-01-01 09:00:00         1.0    0.848633    0.870117    0.982422   \n",
      "2025-01-01 10:00:00         1.0    0.242188    0.879883    0.392090   \n",
      "2025-01-01 11:00:00         0.0    0.080017    0.799805    0.868652   \n",
      "2025-01-01 12:00:00         0.0    0.459473    0.887695    0.092285   \n",
      "2025-01-01 13:00:00         1.0    0.678711    0.243530    0.599609   \n",
      "2025-01-01 14:00:00         1.0    0.436279    0.535645    0.935059   \n",
      "2025-01-01 15:00:00         0.0    0.906738    0.835938    0.962891   \n",
      "2025-01-01 16:00:00         0.0    0.594727    0.202637    0.764648   \n",
      "2025-01-01 17:00:00         1.0    0.844727    0.190674    0.898438   \n",
      "2025-01-01 18:00:00         1.0    0.699219    0.896484    0.651855   \n",
      "2025-01-01 19:00:00         1.0    0.893555    0.645020    0.737305   \n",
      "2025-01-01 20:00:00         1.0    0.182251    0.558594    0.687988   \n",
      "2025-01-01 21:00:00         1.0    0.965820    0.995117    0.368896   \n",
      "2025-01-01 22:00:00         1.0    0.797852    0.063110    0.393311   \n",
      "2025-01-01 23:00:00         0.0    0.323975    0.236206    0.341064   \n",
      "\n",
      "Load                 Bus 4 load  \n",
      "snapshot                         \n",
      "2025-01-01 00:00:00    0.454346  \n",
      "2025-01-01 01:00:00    0.877930  \n",
      "2025-01-01 02:00:00    0.916016  \n",
      "2025-01-01 03:00:00    0.969238  \n",
      "2025-01-01 04:00:00    0.519531  \n",
      "2025-01-01 05:00:00    0.068237  \n",
      "2025-01-01 06:00:00    0.048065  \n",
      "2025-01-01 07:00:00    0.428711  \n",
      "2025-01-01 08:00:00    0.387695  \n",
      "2025-01-01 09:00:00    0.388916  \n",
      "2025-01-01 10:00:00    0.932129  \n",
      "2025-01-01 11:00:00    0.825684  \n",
      "2025-01-01 12:00:00    0.135376  \n",
      "2025-01-01 13:00:00    0.685547  \n",
      "2025-01-01 14:00:00    0.793457  \n",
      "2025-01-01 15:00:00    0.193726  \n",
      "2025-01-01 16:00:00    0.383545  \n",
      "2025-01-01 17:00:00    0.808105  \n",
      "2025-01-01 18:00:00    0.232056  \n",
      "2025-01-01 19:00:00    0.284912  \n",
      "2025-01-01 20:00:00    0.076355  \n",
      "2025-01-01 21:00:00    0.128784  \n",
      "2025-01-01 22:00:00    0.784668  \n",
      "2025-01-01 23:00:00    0.279297  \n"
     ]
    }
   ],
   "source": [
    "# n.pf()\n",
    "count = 0\n",
    "ind = demand.columns[1:]\n",
    "print(ind)\n",
    "\n",
    "for i in n.loads.index.to_list():\n",
    "    temp_col = np.array(demand[ind[count]].to_list(), dtype=np.float16)\n",
    "    count+=1\n",
    "    if count>len(ind):\n",
    "        count =0\n",
    "    n.loads_t.p_set[i] = temp_col\n",
    "n.pf()\n",
    "print(n.loads_t.p_set)"
   ],
   "metadata": {
    "collapsed": false,
    "ExecuteTime": {
     "end_time": "2024-02-06T06:48:31.160641Z",
     "start_time": "2024-02-06T06:48:30.383929800Z"
    }
   }
  },
  {
   "cell_type": "code",
   "execution_count": 62,
   "outputs": [
    {
     "name": "stdout",
     "output_type": "stream",
     "text": [
      "Load\n",
      "Bus 0 load    0.0\n",
      "Bus 1 load    0.0\n",
      "Bus 2 load    0.0\n",
      "Bus 3 load    0.0\n",
      "Bus 4 load    0.0\n",
      "Added         0.0\n",
      "Name: p_set, dtype: float64\n"
     ]
    }
   ],
   "source": [
    "print(n.loads.p_set)"
   ],
   "metadata": {
    "collapsed": false,
    "ExecuteTime": {
     "end_time": "2024-02-06T06:17:38.256161200Z",
     "start_time": "2024-02-06T06:17:38.209274500Z"
    }
   }
  },
  {
   "cell_type": "code",
   "execution_count": 63,
   "outputs": [
    {
     "name": "stderr",
     "output_type": "stream",
     "text": [
      "INFO:pypsa.pf:Performing non-linear load-flow on AC sub-network SubNetwork 0 for snapshots DatetimeIndex(['2025-01-01 00:00:00', '2025-01-01 01:00:00',\n",
      "               '2025-01-01 02:00:00', '2025-01-01 03:00:00',\n",
      "               '2025-01-01 04:00:00', '2025-01-01 05:00:00',\n",
      "               '2025-01-01 06:00:00', '2025-01-01 07:00:00',\n",
      "               '2025-01-01 08:00:00', '2025-01-01 09:00:00',\n",
      "               '2025-01-01 10:00:00', '2025-01-01 11:00:00',\n",
      "               '2025-01-01 12:00:00', '2025-01-01 13:00:00',\n",
      "               '2025-01-01 14:00:00', '2025-01-01 15:00:00',\n",
      "               '2025-01-01 16:00:00', '2025-01-01 17:00:00',\n",
      "               '2025-01-01 18:00:00', '2025-01-01 19:00:00',\n",
      "               '2025-01-01 20:00:00', '2025-01-01 21:00:00',\n",
      "               '2025-01-01 22:00:00', '2025-01-01 23:00:00'],\n",
      "              dtype='datetime64[ns]', name='snapshot', freq='H')\n",
      "INFO:pypsa.pf:Newton-Raphson solved in 0 iterations with error of 0.000000 in 0.000000 seconds\n",
      "INFO:pypsa.pf:Newton-Raphson solved in 3 iterations with error of 0.000000 in 0.031521 seconds\n",
      "INFO:pypsa.pf:Newton-Raphson solved in 3 iterations with error of 0.000000 in 0.031024 seconds\n",
      "INFO:pypsa.pf:Newton-Raphson solved in 0 iterations with error of 0.000000 in 0.000000 seconds\n",
      "INFO:pypsa.pf:Newton-Raphson solved in 0 iterations with error of 0.000000 in 0.000000 seconds\n",
      "INFO:pypsa.pf:Newton-Raphson solved in 0 iterations with error of 0.000000 in 0.000000 seconds\n",
      "INFO:pypsa.pf:Newton-Raphson solved in 3 iterations with error of 0.000000 in 0.021669 seconds\n",
      "INFO:pypsa.pf:Newton-Raphson solved in 0 iterations with error of 0.000000 in 0.000000 seconds\n",
      "INFO:pypsa.pf:Newton-Raphson solved in 3 iterations with error of 0.000000 in 0.031910 seconds\n",
      "INFO:pypsa.pf:Newton-Raphson solved in 3 iterations with error of 0.000000 in 0.025916 seconds\n",
      "INFO:pypsa.pf:Newton-Raphson solved in 3 iterations with error of 0.000000 in 0.016426 seconds\n",
      "INFO:pypsa.pf:Newton-Raphson solved in 0 iterations with error of 0.000000 in 0.000000 seconds\n",
      "INFO:pypsa.pf:Newton-Raphson solved in 0 iterations with error of 0.000000 in 0.000000 seconds\n",
      "INFO:pypsa.pf:Newton-Raphson solved in 3 iterations with error of 0.000000 in 0.010040 seconds\n",
      "INFO:pypsa.pf:Newton-Raphson solved in 3 iterations with error of 0.000000 in 0.015611 seconds\n",
      "INFO:pypsa.pf:Newton-Raphson solved in 0 iterations with error of 0.000000 in 0.000000 seconds\n",
      "INFO:pypsa.pf:Newton-Raphson solved in 0 iterations with error of 0.000000 in 0.000000 seconds\n",
      "INFO:pypsa.pf:Newton-Raphson solved in 3 iterations with error of 0.000000 in 0.026250 seconds\n",
      "INFO:pypsa.pf:Newton-Raphson solved in 3 iterations with error of 0.000000 in 0.027169 seconds\n",
      "INFO:pypsa.pf:Newton-Raphson solved in 3 iterations with error of 0.000000 in 0.031904 seconds\n",
      "INFO:pypsa.pf:Newton-Raphson solved in 3 iterations with error of 0.000000 in 0.016983 seconds\n",
      "INFO:pypsa.pf:Newton-Raphson solved in 3 iterations with error of 0.000000 in 0.010350 seconds\n",
      "INFO:pypsa.pf:Newton-Raphson solved in 3 iterations with error of 0.000000 in 0.025145 seconds\n",
      "INFO:pypsa.pf:Newton-Raphson solved in 0 iterations with error of 0.000000 in 0.000000 seconds\n"
     ]
    },
    {
     "data": {
      "text/plain": "{'n_iter': SubNetwork           0\n snapshot              \n 2025-01-01 00:00:00  0\n 2025-01-01 01:00:00  3\n 2025-01-01 02:00:00  3\n 2025-01-01 03:00:00  0\n 2025-01-01 04:00:00  0\n 2025-01-01 05:00:00  0\n 2025-01-01 06:00:00  3\n 2025-01-01 07:00:00  0\n 2025-01-01 08:00:00  3\n 2025-01-01 09:00:00  3\n 2025-01-01 10:00:00  3\n 2025-01-01 11:00:00  0\n 2025-01-01 12:00:00  0\n 2025-01-01 13:00:00  3\n 2025-01-01 14:00:00  3\n 2025-01-01 15:00:00  0\n 2025-01-01 16:00:00  0\n 2025-01-01 17:00:00  3\n 2025-01-01 18:00:00  3\n 2025-01-01 19:00:00  3\n 2025-01-01 20:00:00  3\n 2025-01-01 21:00:00  3\n 2025-01-01 22:00:00  3\n 2025-01-01 23:00:00  0,\n 'error': SubNetwork                      0\n snapshot                         \n 2025-01-01 00:00:00  0.000000e+00\n 2025-01-01 01:00:00  4.839795e-12\n 2025-01-01 02:00:00  4.839795e-12\n 2025-01-01 03:00:00  0.000000e+00\n 2025-01-01 04:00:00  0.000000e+00\n 2025-01-01 05:00:00  0.000000e+00\n 2025-01-01 06:00:00  4.839795e-12\n 2025-01-01 07:00:00  0.000000e+00\n 2025-01-01 08:00:00  4.839795e-12\n 2025-01-01 09:00:00  4.839795e-12\n 2025-01-01 10:00:00  4.839795e-12\n 2025-01-01 11:00:00  0.000000e+00\n 2025-01-01 12:00:00  0.000000e+00\n 2025-01-01 13:00:00  4.839795e-12\n 2025-01-01 14:00:00  4.839795e-12\n 2025-01-01 15:00:00  0.000000e+00\n 2025-01-01 16:00:00  0.000000e+00\n 2025-01-01 17:00:00  4.839795e-12\n 2025-01-01 18:00:00  4.839795e-12\n 2025-01-01 19:00:00  4.839795e-12\n 2025-01-01 20:00:00  4.839795e-12\n 2025-01-01 21:00:00  4.839795e-12\n 2025-01-01 22:00:00  4.839795e-12\n 2025-01-01 23:00:00  0.000000e+00,\n 'converged': SubNetwork              0\n snapshot                 \n 2025-01-01 00:00:00  True\n 2025-01-01 01:00:00  True\n 2025-01-01 02:00:00  True\n 2025-01-01 03:00:00  True\n 2025-01-01 04:00:00  True\n 2025-01-01 05:00:00  True\n 2025-01-01 06:00:00  True\n 2025-01-01 07:00:00  True\n 2025-01-01 08:00:00  True\n 2025-01-01 09:00:00  True\n 2025-01-01 10:00:00  True\n 2025-01-01 11:00:00  True\n 2025-01-01 12:00:00  True\n 2025-01-01 13:00:00  True\n 2025-01-01 14:00:00  True\n 2025-01-01 15:00:00  True\n 2025-01-01 16:00:00  True\n 2025-01-01 17:00:00  True\n 2025-01-01 18:00:00  True\n 2025-01-01 19:00:00  True\n 2025-01-01 20:00:00  True\n 2025-01-01 21:00:00  True\n 2025-01-01 22:00:00  True\n 2025-01-01 23:00:00  True}"
     },
     "execution_count": 63,
     "metadata": {},
     "output_type": "execute_result"
    }
   ],
   "source": [
    "n.pf()"
   ],
   "metadata": {
    "collapsed": false,
    "ExecuteTime": {
     "end_time": "2024-02-06T06:17:39.499662400Z",
     "start_time": "2024-02-06T06:17:38.876242600Z"
    }
   }
  },
  {
   "cell_type": "code",
   "execution_count": 68,
   "outputs": [
    {
     "name": "stdout",
     "output_type": "stream",
     "text": [
      "v_nom            1.0\n",
      "type                \n",
      "x                0.0\n",
      "y                0.0\n",
      "carrier           AC\n",
      "unit            None\n",
      "v_mag_pu_set     1.0\n",
      "v_mag_pu_min     0.0\n",
      "v_mag_pu_max     inf\n",
      "control           PQ\n",
      "sub_network        0\n",
      "generator        NaN\n",
      "Name: Bus 9, dtype: object\n"
     ]
    }
   ],
   "source": [
    "print(n.buses.loc[\"Bus 9\",:])"
   ],
   "metadata": {
    "collapsed": false,
    "ExecuteTime": {
     "end_time": "2024-02-06T06:18:34.611494900Z",
     "start_time": "2024-02-06T06:18:34.595838200Z"
    }
   }
  },
  {
   "cell_type": "code",
   "execution_count": null,
   "outputs": [],
   "source": [],
   "metadata": {
    "collapsed": false
   }
  }
 ],
 "metadata": {
  "kernelspec": {
   "display_name": "Python 3",
   "language": "python",
   "name": "python3"
  },
  "language_info": {
   "codemirror_mode": {
    "name": "ipython",
    "version": 2
   },
   "file_extension": ".py",
   "mimetype": "text/x-python",
   "name": "python",
   "nbconvert_exporter": "python",
   "pygments_lexer": "ipython2",
   "version": "2.7.6"
  }
 },
 "nbformat": 4,
 "nbformat_minor": 0
}
